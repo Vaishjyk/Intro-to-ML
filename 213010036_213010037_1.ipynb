{
  "cells": [
    {
      "cell_type": "markdown",
      "metadata": {
        "deletable": false,
        "editable": false,
        "nbgrader": {
          "cell_type": "markdown",
          "checksum": "2a747369b91572b4ada4e32643e31bca",
          "grade": false,
          "grade_id": "Title",
          "locked": true,
          "schema_version": 3,
          "solution": false,
          "task": false
        },
        "id": "S78YoCEOor7H"
      },
      "source": [
        "#**EE769 Introduction to Machine Learning**\n",
        "\n",
        "#Assignment 1: Gradient Descent, Linear Regression, and Regularization\n",
        "\n",
        "\n",
        "**Template and Instructions**\n",
        "\n",
        "\n",
        "\n",
        "1. Up to two people can team up, but only one should submit, and both should understand the entire code.\n",
        "2. Every line of code should end in a comment explaining the line\n",
        "3. It is recommended to solve the assignment in Google Colab.\n",
        "Write your roll no.s separated by commas here: \n",
        "4. Write your names here: SRINITHI S, VAISHNAVI J\n",
        "5. There are two parts to the assignment. In the Part 1, the code format has to be strictly followed to enable auto-grading. In the second part, you can be creative.\n",
        "6. **You can discuss with other groups or refer to the internet without being penalized, but you cannot copy their code and modify it. Write every line of code and comment on your own.**"
      ]
    },
    {
      "cell_type": "markdown",
      "metadata": {
        "deletable": false,
        "editable": false,
        "nbgrader": {
          "cell_type": "markdown",
          "checksum": "cae69541658b406d495bcffe0b7c0932",
          "grade": false,
          "grade_id": "cell-aa1aa8c8181f8810",
          "locked": true,
          "schema_version": 3,
          "solution": false,
          "task": false
        },
        "id": "z8SPmxkbor7T"
      },
      "source": [
        "#**Part 1 begins ...**\n",
        "**Instructions to be strictly followed:**\n",
        "\n",
        "1. Do not add any code cells or markdown cells until the end of this part. Especially, do not change the blocks that say \"TEST CASES, DO NOT CHANGE\"\n",
        "2. In all other cells only add code where it says \"CODE HERE\".\n",
        "3. If you encounter any raise NotImplementedError() calls you may comment them out.\n",
        "\n",
        "We cannot ensure correct grading if you change anything else, and you may be penalised for not following these instructions."
      ]
    },
    {
      "cell_type": "markdown",
      "metadata": {
        "deletable": false,
        "editable": false,
        "nbgrader": {
          "cell_type": "markdown",
          "checksum": "0ecbf8e96219ab11b7716eaae61cb7f9",
          "grade": false,
          "grade_id": "cell-1e940101f37c7af2",
          "locked": true,
          "schema_version": 3,
          "solution": false,
          "task": false
        },
        "id": "bIMay61Gor7V"
      },
      "source": [
        "## Import Statements"
      ]
    },
    {
      "cell_type": "code",
      "execution_count": 1,
      "metadata": {
        "deletable": false,
        "editable": false,
        "nbgrader": {
          "cell_type": "code",
          "checksum": "fe70877a859ee0a10e9d591778022f8a",
          "grade": false,
          "grade_id": "Import_Statements",
          "locked": true,
          "schema_version": 3,
          "solution": false,
          "task": false
        },
        "id": "SWPy55r1or7X"
      },
      "outputs": [],
      "source": [
        "import numpy as np\n",
        "import pandas as pd\n",
        "from matplotlib import pyplot as plt\n"
      ]
    },
    {
      "cell_type": "markdown",
      "metadata": {
        "deletable": false,
        "editable": false,
        "nbgrader": {
          "cell_type": "markdown",
          "checksum": "e36a214573fc40f26b45e72215d61375",
          "grade": false,
          "grade_id": "Normalize_Title",
          "locked": true,
          "schema_version": 3,
          "solution": false,
          "task": false
        },
        "id": "wq8fsa6Nor7b"
      },
      "source": [
        "## Normalize function \n",
        "\n"
      ]
    },
    {
      "cell_type": "code",
      "execution_count": 2,
      "metadata": {
        "deletable": false,
        "nbgrader": {
          "cell_type": "code",
          "checksum": "42293dda356d746ac19e9b6d81106261",
          "grade": false,
          "grade_id": "Normalize_Function",
          "locked": false,
          "schema_version": 3,
          "solution": true,
          "task": false
        },
        "id": "1iKQnxsFor7d"
      },
      "outputs": [],
      "source": [
        "def Normalize(X): # Output should be a normalized data matrix of the same dimension\n",
        "    '''\n",
        "    Normalize all columns of X using mean and standard deviation\n",
        "    '''\n",
        "    # YOUR CODE HERE\n",
        "    \n",
        "    \n",
        "    m = np.mean(X,axis=0)   # Mean of each axis of the input X. axis=0 in means first axis. \n",
        "    s = np.std(X,axis=0)    # Standard deviation of each axis of X.\n",
        "    norm = (X-m)/s          # Normalization of X. Each element of the of X is operated with corresponding m and s of same axis. \n",
        "    return norm             # Returning normalized X as output.\n",
        "\n",
        "\n",
        "    #raise NotImplementedError()"
      ]
    },
    {
      "cell_type": "code",
      "execution_count": 3,
      "metadata": {
        "deletable": false,
        "editable": false,
        "nbgrader": {
          "cell_type": "code",
          "checksum": "7797dd606a68f028c945acd08850d108",
          "grade": true,
          "grade_id": "Normalize_Test",
          "locked": true,
          "points": 5,
          "schema_version": 3,
          "solution": false,
          "task": false
        },
        "id": "ybFg1HURor7g"
      },
      "outputs": [],
      "source": [
        "'''\n",
        "TEST CASES, DO NOT CHANGE\n",
        "'''\n",
        "''' case 1 - 1 dimensional array'''\n",
        "#X=np.array([[1,2,3],[3,4,5],[7,8,9]])\n",
        "X1=np.array([1,2,3])\n",
        "np.testing.assert_array_almost_equal(Normalize(X1),np.array([-1.224,  0.      ,  1.224]),decimal=3)\n",
        "''' case 2 - 2 dimensional array'''\n",
        "X2=np.array([[4,7,6],[3,8,9],[5,11,10]])\n",
        "np.testing.assert_array_almost_equal(Normalize(X2),np.array([[ 0.  , -0.980581, -1.372813],[-1.224745, -0.392232,  0.392232],[ 1.224745,  1.372813,  0.980581]]))\n",
        "''' case 3 - 1 dimensional array with float'''\n",
        "X3=np.array([5.5,6.7,3.2,6.7])\n",
        "np.testing.assert_array_almost_equal(Normalize(X3),np.array([-0.017,  0.822, -1.627,  0.822]),decimal=3)"
      ]
    },
    {
      "cell_type": "markdown",
      "metadata": {
        "deletable": false,
        "editable": false,
        "nbgrader": {
          "cell_type": "markdown",
          "checksum": "63ee774a26a0438a0b2f5ec298eac80e",
          "grade": false,
          "grade_id": "cell-66ab98f84d3c58fa",
          "locked": true,
          "schema_version": 3,
          "solution": false,
          "task": false
        },
        "id": "C5oTeb4jor7j"
      },
      "source": [
        "## Prediction Function\n",
        "\n",
        "Given X and w, compute the predicted output. Do not forget to add 1's in X"
      ]
    },
    {
      "cell_type": "code",
      "execution_count": 4,
      "metadata": {
        "deletable": false,
        "nbgrader": {
          "cell_type": "code",
          "checksum": "5976e32bd96bc4bdc2b2efd61e98441c",
          "grade": false,
          "grade_id": "Prediction",
          "locked": false,
          "schema_version": 3,
          "solution": true,
          "task": false
        },
        "id": "ujaTPZoVor7l"
      },
      "outputs": [],
      "source": [
        "def Prediction (X, w): # Output should be a prediction vector y\n",
        "    '''\n",
        "    Compute Prediction given an input datamatrix X and weight vecor w. Output y = [X 1]w where 1 is a vector of all 1s \n",
        "    '''\n",
        "    # YOUR CODE HERE\n",
        "    \n",
        "    \n",
        "    unit = np.ones((len(X),1),dtype='int')           # 1D array of ones of integer datatype with length equal to that of X\n",
        "    X_final = np.hstack((X,unit))                    # Horizontally concatenates X with X1 \n",
        "    y = np.dot(X_final,w)                            # Matrix multiplication of X_final and w to get the estimate y\n",
        "    return y                                         # Returning predicted y as output for given X and w.\n",
        "\n",
        "\n",
        "    #raise NotImplementedError()\n"
      ]
    },
    {
      "cell_type": "code",
      "execution_count": 5,
      "metadata": {
        "deletable": false,
        "editable": false,
        "nbgrader": {
          "cell_type": "code",
          "checksum": "741f088432fb2ac3c49d3c9711d5c9c5",
          "grade": true,
          "grade_id": "PredictionTest",
          "locked": true,
          "points": 5,
          "schema_version": 3,
          "solution": false,
          "task": false
        },
        "id": "A5R_gEGQor7o"
      },
      "outputs": [],
      "source": [
        "'''\n",
        "TEST CASES, DO NOT CHANGE\n",
        "'''\n",
        "''' case 1 - Known input output matrix and weights 1'''\n",
        "X1 = np.array([[3,2],[1,1]])\n",
        "w1 = np.array([2,1,1]) \n",
        "np.testing.assert_array_equal(Prediction(X1,w1),np.array([9,4]))\n"
      ]
    },
    {
      "cell_type": "markdown",
      "metadata": {
        "deletable": false,
        "editable": false,
        "nbgrader": {
          "cell_type": "markdown",
          "checksum": "227f6e0da2f8c6d631599c44041e3b65",
          "grade": false,
          "grade_id": "cell-6fda2832d5967072",
          "locked": true,
          "schema_version": 3,
          "solution": false,
          "task": false
        },
        "id": "2ngus4Hror7p"
      },
      "source": [
        "## Loss Functions\n",
        "\n",
        "Code the four  loss functions:\n",
        "\n",
        "1. MSE loss is only for the error\n",
        "2. MAE loss is only for the error\n",
        "3. L2 loss is for MSE and L2 regularization, and can call MSE loss\n",
        "4. L1 loss is for MSE and L1 regularization, and can call MSE loss"
      ]
    },
    {
      "cell_type": "code",
      "execution_count": 6,
      "metadata": {
        "deletable": false,
        "nbgrader": {
          "cell_type": "code",
          "checksum": "2c3e17b8559f0dfdfecdc8d242aba152",
          "grade": false,
          "grade_id": "MSE_Loss",
          "locked": false,
          "schema_version": 3,
          "solution": true,
          "task": false
        },
        "id": "7mTqWvFTor7r"
      },
      "outputs": [],
      "source": [
        "def MSE_Loss (X, t, w, lamda =0): # Ouput should be a single number\n",
        "    '''\n",
        "    lamda=0 is a default argument to prevent errors if you pass lamda to a function that doesn't need it by mistake. \n",
        "    This allows us to call all loss functions with the same input format.\n",
        "    \n",
        "    You are encouraged read about default arguments by yourself online if you're not familiar.\n",
        "    '''\n",
        "    # YOUR CODE HERE\n",
        "    \n",
        "\n",
        "    # Ones must be added to input X to account for the bias terms\n",
        "    unit = np.ones((len(X),1),dtype='int')             # 1D array of ones of integer datatype with length equal to that of X\n",
        "    X_final = np.hstack((X,unit))                      # Horizontally concatenates X with unit \n",
        "    y = np.array(np.dot(X_final,w))                    # Matrix multiplication of X_final and w to get the estimate y\n",
        "    # Calculation of Mean Squared Error loss\n",
        "    MSE_loss = (1/len(y))*(np.sum(((y-t)**2)))         # Sum of squares of diff between estimate and target upon no. of datasets\n",
        "    return MSE_loss                                    # returning loss as output\n",
        "\n",
        "\n",
        "    #raise NotImplementedError()"
      ]
    },
    {
      "cell_type": "code",
      "execution_count": 7,
      "metadata": {
        "deletable": false,
        "editable": false,
        "nbgrader": {
          "cell_type": "code",
          "checksum": "923a1372a401b41d6ef6b0749a49ff66",
          "grade": true,
          "grade_id": "MSE_Loss_Test",
          "locked": true,
          "points": 2,
          "schema_version": 3,
          "solution": false,
          "task": false
        },
        "id": "jlmolTDdor7s"
      },
      "outputs": [],
      "source": [
        "'''\n",
        "TEST CASES, DO NOT CHANGE\n",
        "'''\n",
        "''' case 1 '''\n",
        "X=np.array([[3,6,5],[4.5,6.6,6]])\n",
        "t=np.array([4,5.5])\n",
        "w=np.array([2,-1,0.5,1])\n",
        "np.testing.assert_almost_equal(MSE_Loss(X,t,w),0.53,decimal=3)\n"
      ]
    },
    {
      "cell_type": "code",
      "execution_count": 8,
      "metadata": {
        "deletable": false,
        "nbgrader": {
          "cell_type": "code",
          "checksum": "b0b3b381c7a3ac5d7dfbb5df647c0d85",
          "grade": false,
          "grade_id": "MAE_Loss",
          "locked": false,
          "schema_version": 3,
          "solution": true,
          "task": false
        },
        "id": "cB5L0SeVor7u"
      },
      "outputs": [],
      "source": [
        "def MAE_Loss (X, t, w, lamda = 0): # Output should be a single number\n",
        "    # YOUR CODE HERE\n",
        "    \n",
        "\n",
        "    # Ones must be added to input X to account for the bias terms\n",
        "    unit = np.ones((len(X),1),dtype='int')              # 1D array of ones of integer datatype with length equal to that of X\n",
        "    X_final = np.hstack((X,unit))                       # Horizontally concatenates X with unit \n",
        "    y=np.array(np.dot(X_final,w))                       # Matrix multiplication of X_final and w to get the estimate y\n",
        "    # Calculation of Mean Absolute Error loss\n",
        "    MAE_loss =(1/(len(y)))*(np.sum(abs(y-t)))            # Sum of absolute diff between estimate and target upon no. of datasets\n",
        "    return MAE_loss                                      # returning loss as output\n",
        "\n",
        "\n",
        "    #raise NotImplementedError()"
      ]
    },
    {
      "cell_type": "code",
      "execution_count": 9,
      "metadata": {
        "deletable": false,
        "editable": false,
        "nbgrader": {
          "cell_type": "code",
          "checksum": "f11d5fde7220893a9809f2954d18c5e5",
          "grade": true,
          "grade_id": "MAE_Loss_Test",
          "locked": true,
          "points": 2,
          "schema_version": 3,
          "solution": false,
          "task": false
        },
        "id": "RucPiNZMor7v"
      },
      "outputs": [],
      "source": [
        "'''\n",
        "TEST CASES, DO NOT CHANGE\n",
        "'''\n",
        "''' case 1 '''\n",
        "X=np.array([[3,6,5],[4.5,6.6,6]])\n",
        "t=np.array([4,5.5])\n",
        "w=np.array([2,-1,0.5,1])\n",
        "np.testing.assert_almost_equal(MAE_Loss(X,t,w),0.700,decimal=3)\n"
      ]
    },
    {
      "cell_type": "code",
      "execution_count": 10,
      "metadata": {
        "deletable": false,
        "nbgrader": {
          "cell_type": "code",
          "checksum": "a8309762ea56bb6b24bbbf4a19cb16bc",
          "grade": false,
          "grade_id": "L2_Loss",
          "locked": false,
          "schema_version": 3,
          "solution": true,
          "task": false
        },
        "id": "m8PizVu5or7w"
      },
      "outputs": [],
      "source": [
        "def L2_Loss (X, t, w, lamda): # Output should be a single number based on L2-norm (with sqrt)\n",
        "    ''' Need to specify what inputs are'''\n",
        "    # YOUR CODE HERE\n",
        "    \n",
        "    \n",
        "    # L2 norm of w is the total loss obtained by adding the L2 regularised term with MSE loss\n",
        "    MSE_loss=(MSE_Loss (X, t, w, lamda =0))       # Calling of MSE_Loss function to find the MSE loss\n",
        "    r = np.sum(w[0:-1]**2)                        # L2 regularisation- sum of squares of w expect the bias term\n",
        "    L2 = np.sqrt(r)*(lamda)                       # Square root of the L2 regularisation term and given lamda value multiplied \n",
        "    L2_loss = L2 + MSE_loss                       # Total loss = MSE loss + L2 regularisation term\n",
        "    return L2_loss                                # Total loss is returned as output\n",
        "\n",
        "\n",
        "    #raise NotImplementedError()"
      ]
    },
    {
      "cell_type": "code",
      "execution_count": 11,
      "metadata": {
        "deletable": false,
        "editable": false,
        "nbgrader": {
          "cell_type": "code",
          "checksum": "a5a409056f6797cdf8cbfab61b138c37",
          "grade": true,
          "grade_id": "L2_Loss_Test",
          "locked": true,
          "points": 2,
          "schema_version": 3,
          "solution": false,
          "task": false
        },
        "id": "DrchNMBJor7y"
      },
      "outputs": [],
      "source": [
        "'''\n",
        "TEST CASES, DO NOT CHANGE\n",
        "'''\n",
        "''' case 1 '''\n",
        "X=np.array([[3,6,5],[4.5,6.6,6]])\n",
        "t=np.array([4,5.5])\n",
        "w=np.array([2,-1,0.5,1])\n",
        "np.testing.assert_almost_equal(L2_Loss(X,t,w,0.5),1.675,decimal=3)\n"
      ]
    },
    {
      "cell_type": "code",
      "execution_count": 12,
      "metadata": {
        "deletable": false,
        "nbgrader": {
          "cell_type": "code",
          "checksum": "1af69c123815524cdc71c72e09ece638",
          "grade": false,
          "grade_id": "L1_Loss",
          "locked": false,
          "schema_version": 3,
          "solution": true,
          "task": false
        },
        "id": "phUmj2LWor70"
      },
      "outputs": [],
      "source": [
        "def L1_Loss (X, t, w, lamda): # Output should be a single number\n",
        "    # YOUR CODE HERE\n",
        "    \n",
        "\n",
        "    # L1 norm of w is the total loss obtained by adding the L1 regularised term with MSE loss\n",
        "    MSE_loss=(MSE_Loss (X, t, w, lamda =0))     # Calling of MSE_Loss function to find the MSE loss\n",
        "    r = np.sum(abs(w[0:-1]))                    # L1 regularisation- sum of absolute values of w expect the bias term\n",
        "    L1 = r * lamda                              # Product of Square root of the L1 regularisation term and given lamda value(extent of regularisation)\n",
        "    L1_loss = L1 + MSE_loss                     # Total loss = MSE loss + L1 regularisation term\n",
        "    return L1_loss                              # Total loss is returned as output\n",
        "\n",
        "\n",
        "    #raise NotImplementedError()"
      ]
    },
    {
      "cell_type": "code",
      "execution_count": 13,
      "metadata": {
        "deletable": false,
        "editable": false,
        "nbgrader": {
          "cell_type": "code",
          "checksum": "40224dd69dd8e6499a67271c33701bf4",
          "grade": true,
          "grade_id": "L1_Loss_Test",
          "locked": true,
          "points": 2,
          "schema_version": 3,
          "solution": false,
          "task": false
        },
        "id": "YUkRvxAAor70"
      },
      "outputs": [],
      "source": [
        "'''\n",
        "TEST CASES, DO NOT CHANGE\n",
        "'''\n",
        "''' case 1 '''\n",
        "X=np.array([[3,6,5],[4.5,6.6,6]])\n",
        "t=np.array([4,5.5])\n",
        "w=np.array([2,-1,0.5,1])\n",
        "np.testing.assert_almost_equal(L1_Loss(X,t,w,0.5),2.280,decimal=3)\n"
      ]
    },
    {
      "cell_type": "code",
      "execution_count": 14,
      "metadata": {
        "deletable": false,
        "nbgrader": {
          "cell_type": "code",
          "checksum": "855bd2ded492e567b20f1d9705d9a97a",
          "grade": false,
          "grade_id": "NRMSE_Metric",
          "locked": false,
          "schema_version": 3,
          "solution": true,
          "task": false
        },
        "id": "kT1RIRLror71"
      },
      "outputs": [],
      "source": [
        "def NRMSE_Metric (X, t, w, lamda=0): # Output should be a single number. RMSE/std_dev(t)\n",
        "    # YOUR CODE HERE\n",
        "\n",
        "\n",
        "    # NRMSE is the normalized root mean square error obtained by taking square root of MSE_loss and normalizing using standard deviation\n",
        "    MSE_loss = MSE_Loss (X, t, w, lamda =0)      # Calling of MSE_Loss function to find the MSE loss\n",
        "    RMSE = np.sqrt(MSE_loss)                     # Calculating root mean square error(RMSE) by taking square root of MSE loss\n",
        "    s = t.std()                                  # Calculating standard deviation to normalize RMSE\n",
        "    NRMSE = RMSE/s                               # Normalized root mean squared error (NRMSE) = RMSE divided by standard deviation\n",
        "    return NRMSE                                 # NRMSE is returned as output\n",
        "    \n",
        "    \n",
        "    raise NotImplementedError()"
      ]
    },
    {
      "cell_type": "code",
      "execution_count": 15,
      "metadata": {
        "deletable": false,
        "editable": false,
        "nbgrader": {
          "cell_type": "code",
          "checksum": "256795799ceb6dfa0b32ab75e8ef30c4",
          "grade": true,
          "grade_id": "NRMSE_Metric_Test",
          "locked": true,
          "points": 2,
          "schema_version": 3,
          "solution": false,
          "task": false
        },
        "id": "aPPSm0GHor72"
      },
      "outputs": [],
      "source": [
        "'''\n",
        "TEST CASES, DO NOT CHANGE\n",
        "'''\n",
        "''' Test case 1 '''\n",
        "X=np.array([[3,6,5],[4.5,6.6,6]])\n",
        "t=np.array([4,5.5])\n",
        "w=np.array([2,-1,0.5,1])\n",
        "np.testing.assert_almost_equal(NRMSE_Metric(X,t,w,0.5),0.970,decimal=3)\n"
      ]
    },
    {
      "cell_type": "markdown",
      "metadata": {
        "deletable": false,
        "editable": false,
        "nbgrader": {
          "cell_type": "markdown",
          "checksum": "cc5df30e29bbe17d4bc7aa89210eb5cf",
          "grade": false,
          "grade_id": "Gradient_Title",
          "locked": true,
          "schema_version": 3,
          "solution": false,
          "task": false
        },
        "id": "iJM3mXyDor73"
      },
      "source": [
        "## Gradient function\n",
        "Each Loss function will have its own gradient function:\n",
        "\n",
        "1. MSE gradient is only for the error\n",
        "2. MAE gradient is only for the error\n",
        "3. L2 gradient is for MSE and L2 regularization, and can call MSE gradient\n",
        "4. L1 gradient is for MSE and L1 regularization, and can call MSE gradient"
      ]
    },
    {
      "cell_type": "code",
      "execution_count": 16,
      "metadata": {
        "deletable": false,
        "nbgrader": {
          "cell_type": "code",
          "checksum": "0190492ee216edce701f93e697572fc1",
          "grade": false,
          "grade_id": "MSE_Gradient",
          "locked": false,
          "schema_version": 3,
          "solution": true,
          "task": false
        },
        "id": "R_ei5G4Kor73"
      },
      "outputs": [],
      "source": [
        "def MSE_Gradient (X, t, w, lamda=0): # Output should have the same size as w\n",
        "    # YOUR CODE HERE\n",
        "\n",
        "\n",
        "    unit = np.ones((len(X),1),dtype='int')              # 1D array of ones of integer datatype with length equal to that of X\n",
        "    X_final = np.hstack((X,unit))                       # Horizontally concatenates X with unit \n",
        "    y=np.array(np.dot(X_final,w))                       # Matrix multiplication of X_final and w to get the estimate y\n",
        "    g=np.zeros(len(w))                                  # Initialisation of gradient as an array of zeros \n",
        "    for j in range(0,len(w)):                           # 'For' loop for considering one training set of X at a time\n",
        "        g[j]=(y-t).dot(X_final[:,j])                    # Gradient with respect Mean Squared error is calculated for each set 'j' of X\n",
        "    return g                                            # Gradient is returned\n",
        "\n",
        "    \n",
        "    #raise NotImplementedError()"
      ]
    },
    {
      "cell_type": "code",
      "execution_count": 17,
      "metadata": {
        "deletable": false,
        "editable": false,
        "nbgrader": {
          "cell_type": "code",
          "checksum": "d61466927592a8776a8bfa688472bad4",
          "grade": true,
          "grade_id": "MSE_Gradient_Test",
          "locked": true,
          "points": 3,
          "schema_version": 3,
          "solution": false,
          "task": false
        },
        "id": "PdtCAg7xor74"
      },
      "outputs": [],
      "source": [
        "'''\n",
        "TEST CASES, DO NOT CHANGE\n",
        "'''\n",
        "''' case 1 '''\n",
        "X=np.array([[3,6,5],[4.5,6.6,6]])\n",
        "t=np.array([4,5.5])\n",
        "w=np.array([2,-1,0.5,1])\n",
        "np.testing.assert_array_almost_equal(MSE_Gradient(X,t,w),np.array([2.55, 2.94, 2.9 , 0.4 ]),decimal=3)\n"
      ]
    },
    {
      "cell_type": "code",
      "execution_count": 18,
      "metadata": {
        "deletable": false,
        "nbgrader": {
          "cell_type": "code",
          "checksum": "49cc4e37cafad52f41853b4b0e71f89f",
          "grade": false,
          "grade_id": "MAE_Gradient",
          "locked": false,
          "schema_version": 3,
          "solution": true,
          "task": false
        },
        "id": "XA3MWH6ror75"
      },
      "outputs": [],
      "source": [
        "def MAE_Gradient (X, t, w, lamda=0): # Output should have the same size as w\n",
        "    # YOUR CODE HERE\n",
        "    \n",
        "    unit = np.ones((len(X),1),dtype='int')              # 1D array of ones of integer datatype with length equal to that of X\n",
        "    X_final = np.hstack((X,unit))                       # Horizontally concatenates X with unit \n",
        "    y=np.array(np.dot(X_final,w))                       # Matrix multiplication of X_final and w to get the estimate y\n",
        "    g=np.zeros(len(w))                                  # Initialisation of gradient as an array of zeros\n",
        "    for j in range(0,len(w)):                           # 'For' loop for considering one training set of X at a time\n",
        "        g[j]=(np.sign(y-t)).dot(X_final[:,j])/2         # Gradient with respect Mean Absolute error to is calculated for each set 'j' of X\n",
        "    return g                                            # Gradient is returned\n",
        "    \n",
        "    #raise NotImplementedError()"
      ]
    },
    {
      "cell_type": "code",
      "execution_count": 19,
      "metadata": {
        "deletable": false,
        "editable": false,
        "nbgrader": {
          "cell_type": "code",
          "checksum": "e1d418bf5351112ae8716877f8bb6359",
          "grade": true,
          "grade_id": "MAE_Gradient_Test",
          "locked": true,
          "points": 3,
          "schema_version": 3,
          "solution": false,
          "task": false
        },
        "id": "KJn5pgY0or76"
      },
      "outputs": [],
      "source": [
        "'''\n",
        "TEST CASES, DO NOT CHANGE\n",
        "'''\n",
        "''' case 1 '''\n",
        "X=np.array([[3,6,5],[4.5,6.6,6]])\n",
        "t=np.array([4,5.5])\n",
        "w=np.array([2,-1,0.5,1])\n",
        "np.testing.assert_array_almost_equal(MAE_Gradient(X,t,w),np.array([0.75,  0.3 ,  0.5 , 0.]),decimal=3)\n"
      ]
    },
    {
      "cell_type": "code",
      "execution_count": 20,
      "metadata": {
        "deletable": false,
        "nbgrader": {
          "cell_type": "code",
          "checksum": "595829c0dd17df55a03d346fac507b4a",
          "grade": false,
          "grade_id": "L2_Gradient",
          "locked": false,
          "schema_version": 3,
          "solution": true,
          "task": false
        },
        "id": "G2no6Qlior76"
      },
      "outputs": [],
      "source": [
        "def L2_Gradient (X, t, w, lamda): # Output should have the same size as w\n",
        "    # YOUR CODE HERE\n",
        "\n",
        "\n",
        "    grad=(MSE_Gradient(X,t,w))              # Calling of MSE_Gradient function to find the MSE gradient\n",
        "    # Derivative of L2 regularisation term with respect to w calculation:\n",
        "    d = np.sqrt(np.sum(w[0:-1]**2))         # Denominator term of the derivative is square root of the sum of squares of w\n",
        "    n=np.zeros(len(w))                      # Initialisation of the numerator to zeros\n",
        "    n[0:len(w)-1] = w[0:len(w)-1]           # Numerator of the derivative is w\n",
        "    #\n",
        "    ans= grad + lamda*(n/d)                 # L2 gradient is the MSE gradient + gradient of L2 regularisation term\n",
        "    return ans                              # Total L1 gradient is returned\n",
        "\n",
        "\n",
        "    #raise NotImplementedError()"
      ]
    },
    {
      "cell_type": "code",
      "execution_count": 21,
      "metadata": {
        "deletable": false,
        "editable": false,
        "nbgrader": {
          "cell_type": "code",
          "checksum": "f292b42c3389b24e369234a7210b87bb",
          "grade": true,
          "grade_id": "L2_Gradient_Test",
          "locked": true,
          "points": 3,
          "schema_version": 3,
          "solution": false,
          "task": false
        },
        "id": "f1LmblN_or77"
      },
      "outputs": [],
      "source": [
        "'''\n",
        "TEST CASES, DO NOT CHANGE\n",
        "'''\n",
        "''' case 1 '''\n",
        "X=np.array([[3,6,5],[4.5,6.6,6]])\n",
        "t=np.array([4,5.5])\n",
        "w=np.array([2,-1,0.5,1])\n",
        "np.testing.assert_array_almost_equal(L2_Gradient(X,t,w,0.5),np.array([2.986, 2.721, 3.009 , 0.4 ]),decimal=3)\n"
      ]
    },
    {
      "cell_type": "code",
      "execution_count": 22,
      "metadata": {
        "deletable": false,
        "nbgrader": {
          "cell_type": "code",
          "checksum": "141736f1feda5aa225e008d749f0015c",
          "grade": false,
          "grade_id": "L1_Gradient",
          "locked": false,
          "schema_version": 3,
          "solution": true,
          "task": false
        },
        "id": "PVLesHrRor79"
      },
      "outputs": [],
      "source": [
        "def L1_Gradient (X, t, w, lamda): # Output should have the same size as w\n",
        "    # YOUR CODE HERE\n",
        "    \n",
        "    grad=(MSE_Gradient(X,t,w))\n",
        "    # Derivative of L1 regularisation with respect to w calculation:\n",
        "    r =np.sign(w[0:len(w)-1])          # Derivative of w in L1 regularisation term\n",
        "    L1=np.zeros(len(w))                # Initialisation of L1 regularisation gradient term\n",
        "    L1[0:len(w)-1] = r * lamda         # L1 regularisation gradient term = Derivative of L1 regularisation * lamda\n",
        "    #\n",
        "    ans = L1+grad                      # Total gradient is MSE gradient + L1 regularisation gradient\n",
        "    return ans                         # Total L1 gradient is returned\n",
        "\n",
        "    \n",
        "    #raise NotImplementedError()"
      ]
    },
    {
      "cell_type": "code",
      "execution_count": 23,
      "metadata": {
        "deletable": false,
        "editable": false,
        "nbgrader": {
          "cell_type": "code",
          "checksum": "9097b61320e470f429a9f46c7da0b219",
          "grade": true,
          "grade_id": "L1_Gradient_Test",
          "locked": true,
          "points": 3,
          "schema_version": 3,
          "solution": false,
          "task": false
        },
        "id": "yt-lndJsor7-"
      },
      "outputs": [],
      "source": [
        "'''\n",
        "TEST CASES, DO NOT CHANGE\n",
        "'''\n",
        "''' case 1 '''\n",
        "X=np.array([[3,6,5],[4.5,6.6,6]])\n",
        "t=np.array([4,5.5])\n",
        "w=np.array([2,-1,0.5,1])\n",
        "np.testing.assert_array_almost_equal(L1_Gradient(X,t,w,0.5),np.array([3.05, 2.44, 3.4 , 0.4 ]),decimal=3)\n"
      ]
    },
    {
      "cell_type": "markdown",
      "metadata": {
        "deletable": false,
        "editable": false,
        "nbgrader": {
          "cell_type": "markdown",
          "checksum": "1980a2f831b5e1ddc9b510c22ef502c7",
          "grade": false,
          "grade_id": "Gradient_Desc_Title",
          "locked": true,
          "schema_version": 3,
          "solution": false,
          "task": false
        },
        "id": "_iLbk9cwor7-"
      },
      "source": [
        "## Gradient Descent Function\n"
      ]
    },
    {
      "cell_type": "code",
      "execution_count": 24,
      "metadata": {
        "deletable": false,
        "nbgrader": {
          "cell_type": "code",
          "checksum": "78cdd5ffa4590c10e19281722ccd537f",
          "grade": false,
          "grade_id": "Gradient_Descent",
          "locked": false,
          "schema_version": 3,
          "solution": true,
          "task": false
        },
        "id": "O_77J8Pror7_"
      },
      "outputs": [],
      "source": [
        "def Gradient_Descent (X, X_val, t, t_val, w, lamda, max_iter, epsilon, lr, lossfunc, gradfunc): # See output format in 'return' statement\n",
        "    # YOUR CODE HERE\n",
        "\n",
        "\n",
        "    # We use gradient descent function to optimize weight(w) using the provided training data for given learning rate, lamda. \n",
        "    # Later the updated w is used in validation data and NRMSE is calculated to check how well the obtained w works\n",
        "\n",
        "    # Using gradient descent for training data\n",
        "    loss1 = lossfunc(X,t,w,lamda)                            # For given input of X,t,w (initial guess) and lamda, loss is obtained using the specified loss function\n",
        "    iter,epsilon = 0, 100                                    # Two variables iter and epsilon are initialized to help in specifying stopping criteria for learning\n",
        "    while iter <= max_iter and epsilon >= 1e-10:              # While loop checks if the stopping criteria is met. We stop the iteration if either the maximum no. of iteration specified is exceeded or if difference of two consecutive loss falls below specified threshold.  \n",
        "      grad = gradfunc(X, t, w, lamda)                        # Gradient is evaluated using any of specified gradient functions defined previously\n",
        "      w = w-lr*grad                                          # New best weight(w) is found using previous w, learning rate and gradient (Gradient descent method)\n",
        "      loss2 = loss1                                          # Before computing the loss for updated w, we store the loss of previous w in new variable, as it is required later for comparison\n",
        "      loss1 = lossfunc(X,t,w,lamda)                          # Loss for new w is calculated using specified loss function\n",
        "      epsilon = abs(loss1-loss2)                             # Absolute difference between two consecutive loss values for two consecutive w is estimated. If this is less than specified threshold, iteration stops.\n",
        "      iter+=1                                                # iter is increased by 1 to keep track of no. of iterations performed. If this exceeds max_iter specified, then we exit the loop. \n",
        "    train_loss_final = loss1                                 # final value of loss is stored as train_loss_final which is a demanded output\n",
        "    \n",
        "    # Using gradient descent for validation data\n",
        "    validation_loss_final = lossfunc(X_val,t_val,w,lamda)    # loss is computed for given validation inputs using specified loss function\n",
        "    w_final = w                                              # Last obtained w is stored for returning as output\n",
        "    validation_NRMSE = NRMSE_Metric(X_val, t_val, w_final)   # Validation NRMSE is calculated using pre-defined function. It is also a demanded output  \n",
        "    \n",
        "    # returns all desired output from training and validation set\n",
        "    print(w_final,train_loss_final,validation_loss_final,validation_NRMSE)\n",
        "    return w_final,train_loss_final,validation_loss_final,validation_NRMSE   \n",
        "    \n",
        "    \n",
        "    #raise NotImplementedError()\n",
        "    #return w_final, train_loss_final, validation_loss_final, validation_NRMSE #You should return variables structured like this.\n",
        "    "
      ]
    },
    {
      "cell_type": "code",
      "execution_count": 25,
      "metadata": {
        "deletable": false,
        "editable": false,
        "nbgrader": {
          "cell_type": "code",
          "checksum": "15a67336bed20a51f33820bf615186e8",
          "grade": true,
          "grade_id": "Gradient_Check",
          "locked": true,
          "points": 20,
          "schema_version": 3,
          "solution": false,
          "task": false
        },
        "id": "PxYfgj1Bor8A",
        "colab": {
          "base_uri": "https://localhost:8080/"
        },
        "outputId": "a04b2eb5-0e64-4445-ffb5-4920bf2bfda2"
      },
      "outputs": [
        {
          "output_type": "stream",
          "name": "stdout",
          "text": [
            "[1.40058731 0.33104289 0.93040647] 689.9526658737369 23.637895078897937 9.69411723626606\n"
          ]
        }
      ],
      "source": [
        "'''\n",
        "TEST CASES, DO NOT CHANGE\n",
        "'''\n",
        "X=np.array([[23,24],[1,2]])\n",
        "t=np.array([4,5])\n",
        "X_val=np.array([[3,4],[5,6]])\n",
        "t_val=np.array([3,4])\n",
        "w=np.array([3,2,1])\n",
        "results = Gradient_Descent (X, X_val, t, t_val, w, 0.1, 100, 1e-10, 1e-5, L2_Loss,L2_Gradient) \n",
        "np.testing.assert_allclose([results[1]],[697.919],rtol =0.05)\n",
        "np.testing.assert_allclose([results[2]],[20],atol=5) # we expect around 17.5  but some students got 24 which we will also accept\n",
        "#Instructor Values of results[1] and results [2] are 697.919 and 17.512 respectively"
      ]
    },
    {
      "cell_type": "markdown",
      "metadata": {
        "deletable": false,
        "editable": false,
        "nbgrader": {
          "cell_type": "markdown",
          "checksum": "24f327aa6a14590077f907ee8323724c",
          "grade": false,
          "grade_id": "PseudoInvTitle",
          "locked": true,
          "schema_version": 3,
          "solution": false,
          "task": false
        },
        "id": "PfClOwZ5or8A"
      },
      "source": [
        "## Pseudo Inverse Method\n",
        "\n",
        "You have to implement a slightly more advanced version, with L2 penalty:\n",
        "\n",
        "w = (X' X + lambda I)^(-1) X' t.\n",
        "\n",
        "See, for example: Section 2 of https://web.mit.edu/zoya/www/linearRegression.pdf\n",
        "\n",
        "Here, the column of 1's in assumed to be included in X"
      ]
    },
    {
      "cell_type": "code",
      "execution_count": 26,
      "metadata": {
        "deletable": false,
        "nbgrader": {
          "cell_type": "code",
          "checksum": "928c9b105c4bcf3c132c7520a140d509",
          "grade": false,
          "grade_id": "PseudoInv",
          "locked": false,
          "schema_version": 3,
          "solution": true,
          "task": false
        },
        "id": "xX_MU2Ulor8B"
      },
      "outputs": [],
      "source": [
        "def Pseudo_Inverse (X, t, lamda): # Output should be weight vector\n",
        "    # YOUR CODE HERE\n",
        "\n",
        "\n",
        "    unit = np.ones((len(X),1),dtype='int')           # 1D array of ones of integer datatype with length equal to that of X\n",
        "    X_final = np.hstack((X,unit))                    # 1D array of previous step is horizontally concatenated to input X\n",
        "    Y = X_final.T.dot(X_final)                       # Matrix multiplication between X_final tanspose and X_final\n",
        "    I = np.identity(Y.shape[0])                      # Identity square matrix of size same as rows of Y\n",
        "    Z =  np.linalg.pinv(Y+lamda*I)                   # Inverse of (Y+lambda*I)\n",
        "    pseudo_inverse = ((X_final.T).dot(t)).dot(Z)     # Matrix multiplication of X_final, t and Z\n",
        "    return pseudo_inverse                            # Returns pseudo inverse of input matrix\n",
        "\n",
        "\n",
        "    #raise NotImplementedError()"
      ]
    },
    {
      "cell_type": "code",
      "execution_count": 27,
      "metadata": {
        "deletable": false,
        "editable": false,
        "nbgrader": {
          "cell_type": "code",
          "checksum": "a5178b8280650ed5d1d55dc6bbb38a29",
          "grade": true,
          "grade_id": "PseudoInvTest",
          "locked": true,
          "points": 10,
          "schema_version": 3,
          "solution": false,
          "task": false
        },
        "id": "UW3RqeOior8C"
      },
      "outputs": [],
      "source": [
        "'''\n",
        "TEST CASES, DO NOT CHANGE\n",
        "'''\n",
        "''' case 1 - other data'''\n",
        "X=np.array([[3,6,5],[4.5,6.6,6]])\n",
        "t=np.array([4,5.5])\n",
        "np.testing.assert_array_almost_equal(Pseudo_Inverse(X,t,0.5),np.array([ 0.491,  0.183,  0.319, -0.002]),decimal=3)"
      ]
    },
    {
      "cell_type": "markdown",
      "metadata": {
        "deletable": false,
        "editable": false,
        "nbgrader": {
          "cell_type": "markdown",
          "checksum": "8748fcc0dc96df6e7bb48a4e315927d3",
          "grade": false,
          "grade_id": "cell-e0fa02d7eecfb851",
          "locked": true,
          "schema_version": 3,
          "solution": false,
          "task": false
        },
        "id": "zTNNE0qGor8D"
      },
      "source": [
        "#... Part 1 ends Below this you be more creative. Just comment out the lines where you save files (e.g. test predictions)."
      ]
    },
    {
      "cell_type": "markdown",
      "metadata": {
        "deletable": false,
        "editable": false,
        "nbgrader": {
          "cell_type": "markdown",
          "checksum": "c9047f75587bfee6b7b0a4b244efc7fa",
          "grade": false,
          "grade_id": "cell-10f0d275f5cd36f6",
          "locked": true,
          "schema_version": 3,
          "solution": false,
          "task": false
        },
        "id": "-SzKbifnor8E"
      },
      "source": [
        "#**Part 2 begins ...**\n",
        "\n",
        "**Instructions to be loosely followed (except number 8):**\n",
        "\n",
        "1. Add more code and text cells between this and the last cell.\n",
        "2. Read training data from: https://www.ee.iitb.ac.in/~asethi/Dump/TempTrain.csv only. Do not use a local copy of the dataset.\n",
        "3. Find the best lamda for **MSE+lamda*L2(w)** loss function. Plot training and validation RMSE vs. 1/lamda (1/lamda represents model complexity). Print weights, validation RMSE, validation NRMSE for the best lamda.\n",
        "4. Find the best lamda for **MSE+lamda*L1(w)** loss function. Plot training and validation RMSE vs. 1/lamda (1/lamda represents model complexity). Print weights, validation RMSE, validation NRMSE for the best lamda.\n",
        "5. Find the best lamda for the **pseudo-inv method**. Plot training and validation RMSE vs. 1/lamda (1/lamda represents model complexity). Print weights, validation RMSE, validation NRMSE for the best lamda.\n",
        "6. Write your observations and conclusions.\n",
        "7. Read test data from: https://www.ee.iitb.ac.in/~asethi/Dump/TempTest.csv only. Do not use a local copy of the dataset. Predict its dependent (missing last column) using the model with the lowest MSE, RMSE, or NRMSE. Save it as a file RollNo1_RollNo2_1.csv.\n",
        "8. **Disable the prediction csv file saving statement and submit this entire .ipynb file, .py file, and .csv file as a single RollNo1_RollNo2_1.zip file.**\n"
      ]
    },
    {
      "cell_type": "code",
      "source": [
        ""
      ],
      "metadata": {
        "id": "XVJos0GBv1zP"
      },
      "execution_count": 27,
      "outputs": []
    },
    {
      "cell_type": "markdown",
      "source": [
        "# PROBLEM IDEA FORMULATION\n",
        "\n",
        "Getting a rough idea of the given problem by analysing the data\n"
      ],
      "metadata": {
        "id": "HwoYXBHLYvts"
      }
    },
    {
      "cell_type": "code",
      "execution_count": 28,
      "metadata": {
        "colab": {
          "base_uri": "https://localhost:8080/",
          "height": 287
        },
        "id": "CLlfOlYbor8F",
        "outputId": "1d2589e0-a1e9-483a-9471-05c8d2afdb6a"
      },
      "outputs": [
        {
          "output_type": "execute_result",
          "data": {
            "text/html": [
              "\n",
              "  <div id=\"df-e4fca03d-6d20-43a5-939b-9770ce631eb6\">\n",
              "    <div class=\"colab-df-container\">\n",
              "      <div>\n",
              "<style scoped>\n",
              "    .dataframe tbody tr th:only-of-type {\n",
              "        vertical-align: middle;\n",
              "    }\n",
              "\n",
              "    .dataframe tbody tr th {\n",
              "        vertical-align: top;\n",
              "    }\n",
              "\n",
              "    .dataframe thead th {\n",
              "        text-align: right;\n",
              "    }\n",
              "</style>\n",
              "<table border=\"1\" class=\"dataframe\">\n",
              "  <thead>\n",
              "    <tr style=\"text-align: right;\">\n",
              "      <th></th>\n",
              "      <th>Present_Tmax</th>\n",
              "      <th>Present_Tmin</th>\n",
              "      <th>LDAPS_RHmin</th>\n",
              "      <th>LDAPS_RHmax</th>\n",
              "      <th>LDAPS_Tmax_lapse</th>\n",
              "      <th>LDAPS_Tmin_lapse</th>\n",
              "      <th>LDAPS_WS</th>\n",
              "      <th>LDAPS_LH</th>\n",
              "      <th>LDAPS_CC1</th>\n",
              "      <th>LDAPS_CC2</th>\n",
              "      <th>LDAPS_CC3</th>\n",
              "      <th>LDAPS_CC4</th>\n",
              "      <th>LDAPS_PPT1</th>\n",
              "      <th>LDAPS_PPT2</th>\n",
              "      <th>LDAPS_PPT3</th>\n",
              "      <th>LDAPS_PPT4</th>\n",
              "      <th>lat</th>\n",
              "      <th>lon</th>\n",
              "      <th>DEM</th>\n",
              "      <th>Slope</th>\n",
              "      <th>Solar radiation</th>\n",
              "      <th>Next_Tmax</th>\n",
              "    </tr>\n",
              "  </thead>\n",
              "  <tbody>\n",
              "    <tr>\n",
              "      <th>0</th>\n",
              "      <td>28.7</td>\n",
              "      <td>21.4</td>\n",
              "      <td>58.255688</td>\n",
              "      <td>91.116364</td>\n",
              "      <td>28.074101</td>\n",
              "      <td>23.006936</td>\n",
              "      <td>6.818887</td>\n",
              "      <td>69.451805</td>\n",
              "      <td>0.233947</td>\n",
              "      <td>0.203896</td>\n",
              "      <td>0.161697</td>\n",
              "      <td>0.130928</td>\n",
              "      <td>0.0</td>\n",
              "      <td>0.0</td>\n",
              "      <td>0.0</td>\n",
              "      <td>0.0</td>\n",
              "      <td>37.6046</td>\n",
              "      <td>126.991</td>\n",
              "      <td>212.3350</td>\n",
              "      <td>2.7850</td>\n",
              "      <td>5992.895996</td>\n",
              "      <td>29.1</td>\n",
              "    </tr>\n",
              "    <tr>\n",
              "      <th>1</th>\n",
              "      <td>31.9</td>\n",
              "      <td>21.6</td>\n",
              "      <td>52.263397</td>\n",
              "      <td>90.604721</td>\n",
              "      <td>29.850689</td>\n",
              "      <td>24.035009</td>\n",
              "      <td>5.691890</td>\n",
              "      <td>51.937448</td>\n",
              "      <td>0.225508</td>\n",
              "      <td>0.251771</td>\n",
              "      <td>0.159444</td>\n",
              "      <td>0.127727</td>\n",
              "      <td>0.0</td>\n",
              "      <td>0.0</td>\n",
              "      <td>0.0</td>\n",
              "      <td>0.0</td>\n",
              "      <td>37.6046</td>\n",
              "      <td>127.032</td>\n",
              "      <td>44.7624</td>\n",
              "      <td>0.5141</td>\n",
              "      <td>5869.312500</td>\n",
              "      <td>30.5</td>\n",
              "    </tr>\n",
              "    <tr>\n",
              "      <th>2</th>\n",
              "      <td>31.6</td>\n",
              "      <td>23.3</td>\n",
              "      <td>48.690479</td>\n",
              "      <td>83.973587</td>\n",
              "      <td>30.091292</td>\n",
              "      <td>24.565633</td>\n",
              "      <td>6.138224</td>\n",
              "      <td>20.573050</td>\n",
              "      <td>0.209344</td>\n",
              "      <td>0.257469</td>\n",
              "      <td>0.204091</td>\n",
              "      <td>0.142125</td>\n",
              "      <td>0.0</td>\n",
              "      <td>0.0</td>\n",
              "      <td>0.0</td>\n",
              "      <td>0.0</td>\n",
              "      <td>37.5776</td>\n",
              "      <td>127.058</td>\n",
              "      <td>33.3068</td>\n",
              "      <td>0.2661</td>\n",
              "      <td>5863.555664</td>\n",
              "      <td>31.1</td>\n",
              "    </tr>\n",
              "    <tr>\n",
              "      <th>3</th>\n",
              "      <td>32.0</td>\n",
              "      <td>23.4</td>\n",
              "      <td>58.239788</td>\n",
              "      <td>96.483688</td>\n",
              "      <td>29.704629</td>\n",
              "      <td>23.326177</td>\n",
              "      <td>5.650050</td>\n",
              "      <td>65.727144</td>\n",
              "      <td>0.216372</td>\n",
              "      <td>0.226002</td>\n",
              "      <td>0.161157</td>\n",
              "      <td>0.134249</td>\n",
              "      <td>0.0</td>\n",
              "      <td>0.0</td>\n",
              "      <td>0.0</td>\n",
              "      <td>0.0</td>\n",
              "      <td>37.6450</td>\n",
              "      <td>127.022</td>\n",
              "      <td>45.7160</td>\n",
              "      <td>2.5348</td>\n",
              "      <td>5856.964844</td>\n",
              "      <td>31.7</td>\n",
              "    </tr>\n",
              "    <tr>\n",
              "      <th>4</th>\n",
              "      <td>31.4</td>\n",
              "      <td>21.9</td>\n",
              "      <td>56.174095</td>\n",
              "      <td>90.155128</td>\n",
              "      <td>29.113934</td>\n",
              "      <td>23.486480</td>\n",
              "      <td>5.735004</td>\n",
              "      <td>107.965535</td>\n",
              "      <td>0.151407</td>\n",
              "      <td>0.249995</td>\n",
              "      <td>0.178892</td>\n",
              "      <td>0.170021</td>\n",
              "      <td>0.0</td>\n",
              "      <td>0.0</td>\n",
              "      <td>0.0</td>\n",
              "      <td>0.0</td>\n",
              "      <td>37.5507</td>\n",
              "      <td>127.135</td>\n",
              "      <td>35.0380</td>\n",
              "      <td>0.5055</td>\n",
              "      <td>5859.552246</td>\n",
              "      <td>31.2</td>\n",
              "    </tr>\n",
              "  </tbody>\n",
              "</table>\n",
              "</div>\n",
              "      <button class=\"colab-df-convert\" onclick=\"convertToInteractive('df-e4fca03d-6d20-43a5-939b-9770ce631eb6')\"\n",
              "              title=\"Convert this dataframe to an interactive table.\"\n",
              "              style=\"display:none;\">\n",
              "        \n",
              "  <svg xmlns=\"http://www.w3.org/2000/svg\" height=\"24px\"viewBox=\"0 0 24 24\"\n",
              "       width=\"24px\">\n",
              "    <path d=\"M0 0h24v24H0V0z\" fill=\"none\"/>\n",
              "    <path d=\"M18.56 5.44l.94 2.06.94-2.06 2.06-.94-2.06-.94-.94-2.06-.94 2.06-2.06.94zm-11 1L8.5 8.5l.94-2.06 2.06-.94-2.06-.94L8.5 2.5l-.94 2.06-2.06.94zm10 10l.94 2.06.94-2.06 2.06-.94-2.06-.94-.94-2.06-.94 2.06-2.06.94z\"/><path d=\"M17.41 7.96l-1.37-1.37c-.4-.4-.92-.59-1.43-.59-.52 0-1.04.2-1.43.59L10.3 9.45l-7.72 7.72c-.78.78-.78 2.05 0 2.83L4 21.41c.39.39.9.59 1.41.59.51 0 1.02-.2 1.41-.59l7.78-7.78 2.81-2.81c.8-.78.8-2.07 0-2.86zM5.41 20L4 18.59l7.72-7.72 1.47 1.35L5.41 20z\"/>\n",
              "  </svg>\n",
              "      </button>\n",
              "      \n",
              "  <style>\n",
              "    .colab-df-container {\n",
              "      display:flex;\n",
              "      flex-wrap:wrap;\n",
              "      gap: 12px;\n",
              "    }\n",
              "\n",
              "    .colab-df-convert {\n",
              "      background-color: #E8F0FE;\n",
              "      border: none;\n",
              "      border-radius: 50%;\n",
              "      cursor: pointer;\n",
              "      display: none;\n",
              "      fill: #1967D2;\n",
              "      height: 32px;\n",
              "      padding: 0 0 0 0;\n",
              "      width: 32px;\n",
              "    }\n",
              "\n",
              "    .colab-df-convert:hover {\n",
              "      background-color: #E2EBFA;\n",
              "      box-shadow: 0px 1px 2px rgba(60, 64, 67, 0.3), 0px 1px 3px 1px rgba(60, 64, 67, 0.15);\n",
              "      fill: #174EA6;\n",
              "    }\n",
              "\n",
              "    [theme=dark] .colab-df-convert {\n",
              "      background-color: #3B4455;\n",
              "      fill: #D2E3FC;\n",
              "    }\n",
              "\n",
              "    [theme=dark] .colab-df-convert:hover {\n",
              "      background-color: #434B5C;\n",
              "      box-shadow: 0px 1px 3px 1px rgba(0, 0, 0, 0.15);\n",
              "      filter: drop-shadow(0px 1px 2px rgba(0, 0, 0, 0.3));\n",
              "      fill: #FFFFFF;\n",
              "    }\n",
              "  </style>\n",
              "\n",
              "      <script>\n",
              "        const buttonEl =\n",
              "          document.querySelector('#df-e4fca03d-6d20-43a5-939b-9770ce631eb6 button.colab-df-convert');\n",
              "        buttonEl.style.display =\n",
              "          google.colab.kernel.accessAllowed ? 'block' : 'none';\n",
              "\n",
              "        async function convertToInteractive(key) {\n",
              "          const element = document.querySelector('#df-e4fca03d-6d20-43a5-939b-9770ce631eb6');\n",
              "          const dataTable =\n",
              "            await google.colab.kernel.invokeFunction('convertToInteractive',\n",
              "                                                     [key], {});\n",
              "          if (!dataTable) return;\n",
              "\n",
              "          const docLinkHtml = 'Like what you see? Visit the ' +\n",
              "            '<a target=\"_blank\" href=https://colab.research.google.com/notebooks/data_table.ipynb>data table notebook</a>'\n",
              "            + ' to learn more about interactive tables.';\n",
              "          element.innerHTML = '';\n",
              "          dataTable['output_type'] = 'display_data';\n",
              "          await google.colab.output.renderOutput(dataTable, element);\n",
              "          const docLink = document.createElement('div');\n",
              "          docLink.innerHTML = docLinkHtml;\n",
              "          element.appendChild(docLink);\n",
              "        }\n",
              "      </script>\n",
              "    </div>\n",
              "  </div>\n",
              "  "
            ],
            "text/plain": [
              "   Present_Tmax  Present_Tmin  LDAPS_RHmin  ...   Slope  Solar radiation  Next_Tmax\n",
              "0          28.7          21.4    58.255688  ...  2.7850      5992.895996       29.1\n",
              "1          31.9          21.6    52.263397  ...  0.5141      5869.312500       30.5\n",
              "2          31.6          23.3    48.690479  ...  0.2661      5863.555664       31.1\n",
              "3          32.0          23.4    58.239788  ...  2.5348      5856.964844       31.7\n",
              "4          31.4          21.9    56.174095  ...  0.5055      5859.552246       31.2\n",
              "\n",
              "[5 rows x 22 columns]"
            ]
          },
          "metadata": {},
          "execution_count": 28
        }
      ],
      "source": [
        "# Reading the provided training file and seeing what all columns are there\n",
        "\n",
        "learning_data = pd.read_csv('https://www.ee.iitb.ac.in/~asethi/Dump/TempTrain.csv')\n",
        "learning_data.head()"
      ]
    },
    {
      "cell_type": "code",
      "source": [
        "# Analysing the size of the data provided to get a better feel of the problem\n",
        "learning_data.shape"
      ],
      "metadata": {
        "colab": {
          "base_uri": "https://localhost:8080/"
        },
        "id": "ateHMTxWxedR",
        "outputId": "26f1ce18-0abe-48d4-b8dd-95304a0ad3ca"
      },
      "execution_count": 29,
      "outputs": [
        {
          "output_type": "execute_result",
          "data": {
            "text/plain": [
              "(6082, 22)"
            ]
          },
          "metadata": {},
          "execution_count": 29
        }
      ]
    },
    {
      "cell_type": "code",
      "source": [
        "# Checking for presence of null values so that they can be eliminated\n",
        "# Null values have no use in prediction and will lead to increased computation time\n",
        "learning_data.isnull().sum()"
      ],
      "metadata": {
        "colab": {
          "base_uri": "https://localhost:8080/"
        },
        "id": "-WPU4ZKB7-MS",
        "outputId": "41e1a4ec-a05b-4aa4-e5c7-88e8aa1bbe7b"
      },
      "execution_count": 30,
      "outputs": [
        {
          "output_type": "execute_result",
          "data": {
            "text/plain": [
              "Present_Tmax        0\n",
              "Present_Tmin        0\n",
              "LDAPS_RHmin         0\n",
              "LDAPS_RHmax         0\n",
              "LDAPS_Tmax_lapse    0\n",
              "LDAPS_Tmin_lapse    0\n",
              "LDAPS_WS            0\n",
              "LDAPS_LH            0\n",
              "LDAPS_CC1           0\n",
              "LDAPS_CC2           0\n",
              "LDAPS_CC3           0\n",
              "LDAPS_CC4           0\n",
              "LDAPS_PPT1          0\n",
              "LDAPS_PPT2          0\n",
              "LDAPS_PPT3          0\n",
              "LDAPS_PPT4          0\n",
              "lat                 0\n",
              "lon                 0\n",
              "DEM                 0\n",
              "Slope               0\n",
              "Solar radiation     0\n",
              "Next_Tmax           0\n",
              "dtype: int64"
            ]
          },
          "metadata": {},
          "execution_count": 30
        }
      ]
    },
    {
      "cell_type": "markdown",
      "source": [
        "**OBSERVATION**   :  \n",
        "We can see that all values are required to be included in our program"
      ],
      "metadata": {
        "id": "tadQL5cNX5uq"
      }
    },
    {
      "cell_type": "code",
      "source": [
        "learning_data.describe()"
      ],
      "metadata": {
        "colab": {
          "base_uri": "https://localhost:8080/",
          "height": 381
        },
        "id": "gDDY5rvn7-Bi",
        "outputId": "14dcac29-1f99-4fe6-dbf5-4ed3aec85362"
      },
      "execution_count": 31,
      "outputs": [
        {
          "output_type": "execute_result",
          "data": {
            "text/html": [
              "\n",
              "  <div id=\"df-463342b0-ceb6-4d05-8e20-e64f58bb7b9f\">\n",
              "    <div class=\"colab-df-container\">\n",
              "      <div>\n",
              "<style scoped>\n",
              "    .dataframe tbody tr th:only-of-type {\n",
              "        vertical-align: middle;\n",
              "    }\n",
              "\n",
              "    .dataframe tbody tr th {\n",
              "        vertical-align: top;\n",
              "    }\n",
              "\n",
              "    .dataframe thead th {\n",
              "        text-align: right;\n",
              "    }\n",
              "</style>\n",
              "<table border=\"1\" class=\"dataframe\">\n",
              "  <thead>\n",
              "    <tr style=\"text-align: right;\">\n",
              "      <th></th>\n",
              "      <th>Present_Tmax</th>\n",
              "      <th>Present_Tmin</th>\n",
              "      <th>LDAPS_RHmin</th>\n",
              "      <th>LDAPS_RHmax</th>\n",
              "      <th>LDAPS_Tmax_lapse</th>\n",
              "      <th>LDAPS_Tmin_lapse</th>\n",
              "      <th>LDAPS_WS</th>\n",
              "      <th>LDAPS_LH</th>\n",
              "      <th>LDAPS_CC1</th>\n",
              "      <th>LDAPS_CC2</th>\n",
              "      <th>LDAPS_CC3</th>\n",
              "      <th>LDAPS_CC4</th>\n",
              "      <th>LDAPS_PPT1</th>\n",
              "      <th>LDAPS_PPT2</th>\n",
              "      <th>LDAPS_PPT3</th>\n",
              "      <th>LDAPS_PPT4</th>\n",
              "      <th>lat</th>\n",
              "      <th>lon</th>\n",
              "      <th>DEM</th>\n",
              "      <th>Slope</th>\n",
              "      <th>Solar radiation</th>\n",
              "      <th>Next_Tmax</th>\n",
              "    </tr>\n",
              "  </thead>\n",
              "  <tbody>\n",
              "    <tr>\n",
              "      <th>count</th>\n",
              "      <td>6082.000000</td>\n",
              "      <td>6082.000000</td>\n",
              "      <td>6082.000000</td>\n",
              "      <td>6082.000000</td>\n",
              "      <td>6082.000000</td>\n",
              "      <td>6082.000000</td>\n",
              "      <td>6082.000000</td>\n",
              "      <td>6082.000000</td>\n",
              "      <td>6082.000000</td>\n",
              "      <td>6082.000000</td>\n",
              "      <td>6082.000000</td>\n",
              "      <td>6082.000000</td>\n",
              "      <td>6082.000000</td>\n",
              "      <td>6082.000000</td>\n",
              "      <td>6082.000000</td>\n",
              "      <td>6082.000000</td>\n",
              "      <td>6082.000000</td>\n",
              "      <td>6082.000000</td>\n",
              "      <td>6082.000000</td>\n",
              "      <td>6082.000000</td>\n",
              "      <td>6082.000000</td>\n",
              "      <td>6082.000000</td>\n",
              "    </tr>\n",
              "    <tr>\n",
              "      <th>mean</th>\n",
              "      <td>29.801611</td>\n",
              "      <td>23.115291</td>\n",
              "      <td>56.018614</td>\n",
              "      <td>88.515941</td>\n",
              "      <td>29.614770</td>\n",
              "      <td>23.443802</td>\n",
              "      <td>7.139833</td>\n",
              "      <td>62.465128</td>\n",
              "      <td>0.371016</td>\n",
              "      <td>0.353386</td>\n",
              "      <td>0.303437</td>\n",
              "      <td>0.287287</td>\n",
              "      <td>0.579411</td>\n",
              "      <td>0.486801</td>\n",
              "      <td>0.252828</td>\n",
              "      <td>0.257101</td>\n",
              "      <td>37.544753</td>\n",
              "      <td>126.991630</td>\n",
              "      <td>61.872200</td>\n",
              "      <td>1.260263</td>\n",
              "      <td>5343.173788</td>\n",
              "      <td>30.303058</td>\n",
              "    </tr>\n",
              "    <tr>\n",
              "      <th>std</th>\n",
              "      <td>2.951021</td>\n",
              "      <td>2.401665</td>\n",
              "      <td>14.455890</td>\n",
              "      <td>7.312849</td>\n",
              "      <td>2.901865</td>\n",
              "      <td>2.310063</td>\n",
              "      <td>2.252380</td>\n",
              "      <td>33.111077</td>\n",
              "      <td>0.264576</td>\n",
              "      <td>0.259166</td>\n",
              "      <td>0.244996</td>\n",
              "      <td>0.251257</td>\n",
              "      <td>1.877036</td>\n",
              "      <td>1.751910</td>\n",
              "      <td>1.049527</td>\n",
              "      <td>1.154900</td>\n",
              "      <td>0.050415</td>\n",
              "      <td>0.079312</td>\n",
              "      <td>54.231137</td>\n",
              "      <td>1.372206</td>\n",
              "      <td>431.221299</td>\n",
              "      <td>3.097031</td>\n",
              "    </tr>\n",
              "    <tr>\n",
              "      <th>min</th>\n",
              "      <td>20.100000</td>\n",
              "      <td>11.300000</td>\n",
              "      <td>19.794666</td>\n",
              "      <td>58.936283</td>\n",
              "      <td>17.624954</td>\n",
              "      <td>14.720029</td>\n",
              "      <td>2.882580</td>\n",
              "      <td>-13.603212</td>\n",
              "      <td>0.000000</td>\n",
              "      <td>0.000000</td>\n",
              "      <td>0.000000</td>\n",
              "      <td>0.000000</td>\n",
              "      <td>0.000000</td>\n",
              "      <td>0.000000</td>\n",
              "      <td>0.000000</td>\n",
              "      <td>0.000000</td>\n",
              "      <td>37.456200</td>\n",
              "      <td>126.826000</td>\n",
              "      <td>12.370000</td>\n",
              "      <td>0.098500</td>\n",
              "      <td>4329.520508</td>\n",
              "      <td>17.400000</td>\n",
              "    </tr>\n",
              "    <tr>\n",
              "      <th>25%</th>\n",
              "      <td>27.900000</td>\n",
              "      <td>21.500000</td>\n",
              "      <td>45.446830</td>\n",
              "      <td>84.404219</td>\n",
              "      <td>27.694146</td>\n",
              "      <td>21.925374</td>\n",
              "      <td>5.649959</td>\n",
              "      <td>37.250612</td>\n",
              "      <td>0.147001</td>\n",
              "      <td>0.137485</td>\n",
              "      <td>0.094394</td>\n",
              "      <td>0.072224</td>\n",
              "      <td>0.000000</td>\n",
              "      <td>0.000000</td>\n",
              "      <td>0.000000</td>\n",
              "      <td>0.000000</td>\n",
              "      <td>37.510200</td>\n",
              "      <td>126.937000</td>\n",
              "      <td>28.700000</td>\n",
              "      <td>0.271300</td>\n",
              "      <td>4997.796875</td>\n",
              "      <td>28.400000</td>\n",
              "    </tr>\n",
              "    <tr>\n",
              "      <th>50%</th>\n",
              "      <td>29.900000</td>\n",
              "      <td>23.200000</td>\n",
              "      <td>54.158222</td>\n",
              "      <td>90.049240</td>\n",
              "      <td>29.693295</td>\n",
              "      <td>23.617270</td>\n",
              "      <td>6.571684</td>\n",
              "      <td>56.753248</td>\n",
              "      <td>0.317329</td>\n",
              "      <td>0.305546</td>\n",
              "      <td>0.246939</td>\n",
              "      <td>0.215075</td>\n",
              "      <td>0.000000</td>\n",
              "      <td>0.000000</td>\n",
              "      <td>0.000000</td>\n",
              "      <td>0.000000</td>\n",
              "      <td>37.550700</td>\n",
              "      <td>126.995000</td>\n",
              "      <td>45.716000</td>\n",
              "      <td>0.618000</td>\n",
              "      <td>5445.730469</td>\n",
              "      <td>30.500000</td>\n",
              "    </tr>\n",
              "    <tr>\n",
              "      <th>75%</th>\n",
              "      <td>32.000000</td>\n",
              "      <td>24.800000</td>\n",
              "      <td>65.983959</td>\n",
              "      <td>94.024183</td>\n",
              "      <td>31.663208</td>\n",
              "      <td>25.104358</td>\n",
              "      <td>8.131577</td>\n",
              "      <td>84.760510</td>\n",
              "      <td>0.580648</td>\n",
              "      <td>0.555505</td>\n",
              "      <td>0.474692</td>\n",
              "      <td>0.486157</td>\n",
              "      <td>0.079479</td>\n",
              "      <td>0.028317</td>\n",
              "      <td>0.012658</td>\n",
              "      <td>0.000871</td>\n",
              "      <td>37.577600</td>\n",
              "      <td>127.042000</td>\n",
              "      <td>59.832400</td>\n",
              "      <td>1.767800</td>\n",
              "      <td>5729.980835</td>\n",
              "      <td>32.600000</td>\n",
              "    </tr>\n",
              "    <tr>\n",
              "      <th>max</th>\n",
              "      <td>37.600000</td>\n",
              "      <td>29.900000</td>\n",
              "      <td>98.524734</td>\n",
              "      <td>99.996887</td>\n",
              "      <td>37.050301</td>\n",
              "      <td>29.084492</td>\n",
              "      <td>21.857621</td>\n",
              "      <td>213.414006</td>\n",
              "      <td>0.967277</td>\n",
              "      <td>0.966997</td>\n",
              "      <td>0.983789</td>\n",
              "      <td>0.974710</td>\n",
              "      <td>23.701544</td>\n",
              "      <td>21.621661</td>\n",
              "      <td>15.841235</td>\n",
              "      <td>13.998953</td>\n",
              "      <td>37.645000</td>\n",
              "      <td>127.135000</td>\n",
              "      <td>212.335000</td>\n",
              "      <td>5.178200</td>\n",
              "      <td>5992.895996</td>\n",
              "      <td>38.900000</td>\n",
              "    </tr>\n",
              "  </tbody>\n",
              "</table>\n",
              "</div>\n",
              "      <button class=\"colab-df-convert\" onclick=\"convertToInteractive('df-463342b0-ceb6-4d05-8e20-e64f58bb7b9f')\"\n",
              "              title=\"Convert this dataframe to an interactive table.\"\n",
              "              style=\"display:none;\">\n",
              "        \n",
              "  <svg xmlns=\"http://www.w3.org/2000/svg\" height=\"24px\"viewBox=\"0 0 24 24\"\n",
              "       width=\"24px\">\n",
              "    <path d=\"M0 0h24v24H0V0z\" fill=\"none\"/>\n",
              "    <path d=\"M18.56 5.44l.94 2.06.94-2.06 2.06-.94-2.06-.94-.94-2.06-.94 2.06-2.06.94zm-11 1L8.5 8.5l.94-2.06 2.06-.94-2.06-.94L8.5 2.5l-.94 2.06-2.06.94zm10 10l.94 2.06.94-2.06 2.06-.94-2.06-.94-.94-2.06-.94 2.06-2.06.94z\"/><path d=\"M17.41 7.96l-1.37-1.37c-.4-.4-.92-.59-1.43-.59-.52 0-1.04.2-1.43.59L10.3 9.45l-7.72 7.72c-.78.78-.78 2.05 0 2.83L4 21.41c.39.39.9.59 1.41.59.51 0 1.02-.2 1.41-.59l7.78-7.78 2.81-2.81c.8-.78.8-2.07 0-2.86zM5.41 20L4 18.59l7.72-7.72 1.47 1.35L5.41 20z\"/>\n",
              "  </svg>\n",
              "      </button>\n",
              "      \n",
              "  <style>\n",
              "    .colab-df-container {\n",
              "      display:flex;\n",
              "      flex-wrap:wrap;\n",
              "      gap: 12px;\n",
              "    }\n",
              "\n",
              "    .colab-df-convert {\n",
              "      background-color: #E8F0FE;\n",
              "      border: none;\n",
              "      border-radius: 50%;\n",
              "      cursor: pointer;\n",
              "      display: none;\n",
              "      fill: #1967D2;\n",
              "      height: 32px;\n",
              "      padding: 0 0 0 0;\n",
              "      width: 32px;\n",
              "    }\n",
              "\n",
              "    .colab-df-convert:hover {\n",
              "      background-color: #E2EBFA;\n",
              "      box-shadow: 0px 1px 2px rgba(60, 64, 67, 0.3), 0px 1px 3px 1px rgba(60, 64, 67, 0.15);\n",
              "      fill: #174EA6;\n",
              "    }\n",
              "\n",
              "    [theme=dark] .colab-df-convert {\n",
              "      background-color: #3B4455;\n",
              "      fill: #D2E3FC;\n",
              "    }\n",
              "\n",
              "    [theme=dark] .colab-df-convert:hover {\n",
              "      background-color: #434B5C;\n",
              "      box-shadow: 0px 1px 3px 1px rgba(0, 0, 0, 0.15);\n",
              "      filter: drop-shadow(0px 1px 2px rgba(0, 0, 0, 0.3));\n",
              "      fill: #FFFFFF;\n",
              "    }\n",
              "  </style>\n",
              "\n",
              "      <script>\n",
              "        const buttonEl =\n",
              "          document.querySelector('#df-463342b0-ceb6-4d05-8e20-e64f58bb7b9f button.colab-df-convert');\n",
              "        buttonEl.style.display =\n",
              "          google.colab.kernel.accessAllowed ? 'block' : 'none';\n",
              "\n",
              "        async function convertToInteractive(key) {\n",
              "          const element = document.querySelector('#df-463342b0-ceb6-4d05-8e20-e64f58bb7b9f');\n",
              "          const dataTable =\n",
              "            await google.colab.kernel.invokeFunction('convertToInteractive',\n",
              "                                                     [key], {});\n",
              "          if (!dataTable) return;\n",
              "\n",
              "          const docLinkHtml = 'Like what you see? Visit the ' +\n",
              "            '<a target=\"_blank\" href=https://colab.research.google.com/notebooks/data_table.ipynb>data table notebook</a>'\n",
              "            + ' to learn more about interactive tables.';\n",
              "          element.innerHTML = '';\n",
              "          dataTable['output_type'] = 'display_data';\n",
              "          await google.colab.output.renderOutput(dataTable, element);\n",
              "          const docLink = document.createElement('div');\n",
              "          docLink.innerHTML = docLinkHtml;\n",
              "          element.appendChild(docLink);\n",
              "        }\n",
              "      </script>\n",
              "    </div>\n",
              "  </div>\n",
              "  "
            ],
            "text/plain": [
              "       Present_Tmax  Present_Tmin  ...  Solar radiation    Next_Tmax\n",
              "count   6082.000000   6082.000000  ...      6082.000000  6082.000000\n",
              "mean      29.801611     23.115291  ...      5343.173788    30.303058\n",
              "std        2.951021      2.401665  ...       431.221299     3.097031\n",
              "min       20.100000     11.300000  ...      4329.520508    17.400000\n",
              "25%       27.900000     21.500000  ...      4997.796875    28.400000\n",
              "50%       29.900000     23.200000  ...      5445.730469    30.500000\n",
              "75%       32.000000     24.800000  ...      5729.980835    32.600000\n",
              "max       37.600000     29.900000  ...      5992.895996    38.900000\n",
              "\n",
              "[8 rows x 22 columns]"
            ]
          },
          "metadata": {},
          "execution_count": 31
        }
      ]
    },
    {
      "cell_type": "markdown",
      "source": [
        "**OSERVATION**   :\n",
        "Looking into the above data description we can see how each parameter varies and how their trends are"
      ],
      "metadata": {
        "id": "QO3kbNa1ZXzE"
      }
    },
    {
      "cell_type": "code",
      "source": [
        "learning_data= learning_data.sample(frac = 1)\n",
        "learning_data.head()"
      ],
      "metadata": {
        "colab": {
          "base_uri": "https://localhost:8080/",
          "height": 287
        },
        "id": "d-pxGOR1Yz1T",
        "outputId": "5fff620b-7d19-4e30-c479-e5011710f34f"
      },
      "execution_count": 32,
      "outputs": [
        {
          "output_type": "execute_result",
          "data": {
            "text/html": [
              "\n",
              "  <div id=\"df-0c89b093-73e2-42d3-96bc-8085aeb17e9d\">\n",
              "    <div class=\"colab-df-container\">\n",
              "      <div>\n",
              "<style scoped>\n",
              "    .dataframe tbody tr th:only-of-type {\n",
              "        vertical-align: middle;\n",
              "    }\n",
              "\n",
              "    .dataframe tbody tr th {\n",
              "        vertical-align: top;\n",
              "    }\n",
              "\n",
              "    .dataframe thead th {\n",
              "        text-align: right;\n",
              "    }\n",
              "</style>\n",
              "<table border=\"1\" class=\"dataframe\">\n",
              "  <thead>\n",
              "    <tr style=\"text-align: right;\">\n",
              "      <th></th>\n",
              "      <th>Present_Tmax</th>\n",
              "      <th>Present_Tmin</th>\n",
              "      <th>LDAPS_RHmin</th>\n",
              "      <th>LDAPS_RHmax</th>\n",
              "      <th>LDAPS_Tmax_lapse</th>\n",
              "      <th>LDAPS_Tmin_lapse</th>\n",
              "      <th>LDAPS_WS</th>\n",
              "      <th>LDAPS_LH</th>\n",
              "      <th>LDAPS_CC1</th>\n",
              "      <th>LDAPS_CC2</th>\n",
              "      <th>LDAPS_CC3</th>\n",
              "      <th>LDAPS_CC4</th>\n",
              "      <th>LDAPS_PPT1</th>\n",
              "      <th>LDAPS_PPT2</th>\n",
              "      <th>LDAPS_PPT3</th>\n",
              "      <th>LDAPS_PPT4</th>\n",
              "      <th>lat</th>\n",
              "      <th>lon</th>\n",
              "      <th>DEM</th>\n",
              "      <th>Slope</th>\n",
              "      <th>Solar radiation</th>\n",
              "      <th>Next_Tmax</th>\n",
              "    </tr>\n",
              "  </thead>\n",
              "  <tbody>\n",
              "    <tr>\n",
              "      <th>3967</th>\n",
              "      <td>32.2</td>\n",
              "      <td>26.2</td>\n",
              "      <td>55.828007</td>\n",
              "      <td>95.862183</td>\n",
              "      <td>31.539253</td>\n",
              "      <td>23.819131</td>\n",
              "      <td>6.599190</td>\n",
              "      <td>119.692110</td>\n",
              "      <td>0.087770</td>\n",
              "      <td>0.115293</td>\n",
              "      <td>0.008808</td>\n",
              "      <td>0.051158</td>\n",
              "      <td>0.00000</td>\n",
              "      <td>0.00000</td>\n",
              "      <td>0.000000</td>\n",
              "      <td>0.000000</td>\n",
              "      <td>37.6181</td>\n",
              "      <td>127.004</td>\n",
              "      <td>146.5540</td>\n",
              "      <td>4.7296</td>\n",
              "      <td>5380.158691</td>\n",
              "      <td>34.9</td>\n",
              "    </tr>\n",
              "    <tr>\n",
              "      <th>5610</th>\n",
              "      <td>32.9</td>\n",
              "      <td>25.0</td>\n",
              "      <td>46.615067</td>\n",
              "      <td>90.375885</td>\n",
              "      <td>33.169555</td>\n",
              "      <td>26.004523</td>\n",
              "      <td>7.157313</td>\n",
              "      <td>91.154647</td>\n",
              "      <td>0.156578</td>\n",
              "      <td>0.051419</td>\n",
              "      <td>0.001840</td>\n",
              "      <td>0.000380</td>\n",
              "      <td>0.00000</td>\n",
              "      <td>0.00000</td>\n",
              "      <td>0.000000</td>\n",
              "      <td>0.000000</td>\n",
              "      <td>37.6046</td>\n",
              "      <td>126.991</td>\n",
              "      <td>212.3350</td>\n",
              "      <td>2.7850</td>\n",
              "      <td>5245.199219</td>\n",
              "      <td>33.0</td>\n",
              "    </tr>\n",
              "    <tr>\n",
              "      <th>5887</th>\n",
              "      <td>32.2</td>\n",
              "      <td>26.4</td>\n",
              "      <td>64.911324</td>\n",
              "      <td>91.737434</td>\n",
              "      <td>28.944484</td>\n",
              "      <td>24.504042</td>\n",
              "      <td>5.862176</td>\n",
              "      <td>103.454758</td>\n",
              "      <td>0.345880</td>\n",
              "      <td>0.407272</td>\n",
              "      <td>0.218534</td>\n",
              "      <td>0.050978</td>\n",
              "      <td>0.00000</td>\n",
              "      <td>0.00000</td>\n",
              "      <td>0.000000</td>\n",
              "      <td>0.000000</td>\n",
              "      <td>37.6450</td>\n",
              "      <td>127.022</td>\n",
              "      <td>45.7160</td>\n",
              "      <td>2.5348</td>\n",
              "      <td>4679.124512</td>\n",
              "      <td>34.0</td>\n",
              "    </tr>\n",
              "    <tr>\n",
              "      <th>5489</th>\n",
              "      <td>33.2</td>\n",
              "      <td>24.7</td>\n",
              "      <td>49.911877</td>\n",
              "      <td>89.242279</td>\n",
              "      <td>33.386603</td>\n",
              "      <td>27.867494</td>\n",
              "      <td>5.746215</td>\n",
              "      <td>74.567476</td>\n",
              "      <td>0.367225</td>\n",
              "      <td>0.150426</td>\n",
              "      <td>0.252066</td>\n",
              "      <td>0.329300</td>\n",
              "      <td>0.08236</td>\n",
              "      <td>0.00014</td>\n",
              "      <td>0.000000</td>\n",
              "      <td>0.000342</td>\n",
              "      <td>37.6046</td>\n",
              "      <td>127.032</td>\n",
              "      <td>44.7624</td>\n",
              "      <td>0.5141</td>\n",
              "      <td>5247.996582</td>\n",
              "      <td>34.3</td>\n",
              "    </tr>\n",
              "    <tr>\n",
              "      <th>5774</th>\n",
              "      <td>32.5</td>\n",
              "      <td>23.5</td>\n",
              "      <td>54.377689</td>\n",
              "      <td>83.143707</td>\n",
              "      <td>32.920552</td>\n",
              "      <td>25.369539</td>\n",
              "      <td>5.201242</td>\n",
              "      <td>92.720334</td>\n",
              "      <td>0.047834</td>\n",
              "      <td>0.121767</td>\n",
              "      <td>0.183315</td>\n",
              "      <td>0.299410</td>\n",
              "      <td>0.00000</td>\n",
              "      <td>0.00000</td>\n",
              "      <td>0.701467</td>\n",
              "      <td>0.092443</td>\n",
              "      <td>37.4697</td>\n",
              "      <td>126.995</td>\n",
              "      <td>82.2912</td>\n",
              "      <td>2.2579</td>\n",
              "      <td>4861.894043</td>\n",
              "      <td>32.5</td>\n",
              "    </tr>\n",
              "  </tbody>\n",
              "</table>\n",
              "</div>\n",
              "      <button class=\"colab-df-convert\" onclick=\"convertToInteractive('df-0c89b093-73e2-42d3-96bc-8085aeb17e9d')\"\n",
              "              title=\"Convert this dataframe to an interactive table.\"\n",
              "              style=\"display:none;\">\n",
              "        \n",
              "  <svg xmlns=\"http://www.w3.org/2000/svg\" height=\"24px\"viewBox=\"0 0 24 24\"\n",
              "       width=\"24px\">\n",
              "    <path d=\"M0 0h24v24H0V0z\" fill=\"none\"/>\n",
              "    <path d=\"M18.56 5.44l.94 2.06.94-2.06 2.06-.94-2.06-.94-.94-2.06-.94 2.06-2.06.94zm-11 1L8.5 8.5l.94-2.06 2.06-.94-2.06-.94L8.5 2.5l-.94 2.06-2.06.94zm10 10l.94 2.06.94-2.06 2.06-.94-2.06-.94-.94-2.06-.94 2.06-2.06.94z\"/><path d=\"M17.41 7.96l-1.37-1.37c-.4-.4-.92-.59-1.43-.59-.52 0-1.04.2-1.43.59L10.3 9.45l-7.72 7.72c-.78.78-.78 2.05 0 2.83L4 21.41c.39.39.9.59 1.41.59.51 0 1.02-.2 1.41-.59l7.78-7.78 2.81-2.81c.8-.78.8-2.07 0-2.86zM5.41 20L4 18.59l7.72-7.72 1.47 1.35L5.41 20z\"/>\n",
              "  </svg>\n",
              "      </button>\n",
              "      \n",
              "  <style>\n",
              "    .colab-df-container {\n",
              "      display:flex;\n",
              "      flex-wrap:wrap;\n",
              "      gap: 12px;\n",
              "    }\n",
              "\n",
              "    .colab-df-convert {\n",
              "      background-color: #E8F0FE;\n",
              "      border: none;\n",
              "      border-radius: 50%;\n",
              "      cursor: pointer;\n",
              "      display: none;\n",
              "      fill: #1967D2;\n",
              "      height: 32px;\n",
              "      padding: 0 0 0 0;\n",
              "      width: 32px;\n",
              "    }\n",
              "\n",
              "    .colab-df-convert:hover {\n",
              "      background-color: #E2EBFA;\n",
              "      box-shadow: 0px 1px 2px rgba(60, 64, 67, 0.3), 0px 1px 3px 1px rgba(60, 64, 67, 0.15);\n",
              "      fill: #174EA6;\n",
              "    }\n",
              "\n",
              "    [theme=dark] .colab-df-convert {\n",
              "      background-color: #3B4455;\n",
              "      fill: #D2E3FC;\n",
              "    }\n",
              "\n",
              "    [theme=dark] .colab-df-convert:hover {\n",
              "      background-color: #434B5C;\n",
              "      box-shadow: 0px 1px 3px 1px rgba(0, 0, 0, 0.15);\n",
              "      filter: drop-shadow(0px 1px 2px rgba(0, 0, 0, 0.3));\n",
              "      fill: #FFFFFF;\n",
              "    }\n",
              "  </style>\n",
              "\n",
              "      <script>\n",
              "        const buttonEl =\n",
              "          document.querySelector('#df-0c89b093-73e2-42d3-96bc-8085aeb17e9d button.colab-df-convert');\n",
              "        buttonEl.style.display =\n",
              "          google.colab.kernel.accessAllowed ? 'block' : 'none';\n",
              "\n",
              "        async function convertToInteractive(key) {\n",
              "          const element = document.querySelector('#df-0c89b093-73e2-42d3-96bc-8085aeb17e9d');\n",
              "          const dataTable =\n",
              "            await google.colab.kernel.invokeFunction('convertToInteractive',\n",
              "                                                     [key], {});\n",
              "          if (!dataTable) return;\n",
              "\n",
              "          const docLinkHtml = 'Like what you see? Visit the ' +\n",
              "            '<a target=\"_blank\" href=https://colab.research.google.com/notebooks/data_table.ipynb>data table notebook</a>'\n",
              "            + ' to learn more about interactive tables.';\n",
              "          element.innerHTML = '';\n",
              "          dataTable['output_type'] = 'display_data';\n",
              "          await google.colab.output.renderOutput(dataTable, element);\n",
              "          const docLink = document.createElement('div');\n",
              "          docLink.innerHTML = docLinkHtml;\n",
              "          element.appendChild(docLink);\n",
              "        }\n",
              "      </script>\n",
              "    </div>\n",
              "  </div>\n",
              "  "
            ],
            "text/plain": [
              "      Present_Tmax  Present_Tmin  ...  Solar radiation  Next_Tmax\n",
              "3967          32.2          26.2  ...      5380.158691       34.9\n",
              "5610          32.9          25.0  ...      5245.199219       33.0\n",
              "5887          32.2          26.4  ...      4679.124512       34.0\n",
              "5489          33.2          24.7  ...      5247.996582       34.3\n",
              "5774          32.5          23.5  ...      4861.894043       32.5\n",
              "\n",
              "[5 rows x 22 columns]"
            ]
          },
          "metadata": {},
          "execution_count": 32
        }
      ]
    },
    {
      "cell_type": "markdown",
      "source": [
        "**OSERVATION**   :\n",
        "Randomizing the given data so that while splitting between train and validation, we do not get similar kinds of data in the same group.\n",
        "\n",
        "This step is very necessary if we have data in some sorted format to improve the machine's learning capacity"
      ],
      "metadata": {
        "id": "KSYrnpnWZ4sm"
      }
    },
    {
      "cell_type": "markdown",
      "source": [
        "# DATA SPLITING\n",
        "\n",
        "From the given set of data we split them into training and validation data.\n",
        "\n",
        "Also we have to separate the target variable given and the design variables. \n",
        "\n",
        "This splitting of data, and normalizing the segregated data will be done in this section.\n",
        "\n"
      ],
      "metadata": {
        "id": "FSJpXf05aOeK"
      }
    },
    {
      "cell_type": "code",
      "source": [
        "train_size=round(0.8*len(learning_data))\n",
        "val_size = round(0.2*len(learning_data))\n",
        "train_data = learning_data[:train_size]\n",
        "val_data = learning_data[train_size:]\n"
      ],
      "metadata": {
        "id": "PL41gm6G5YNa"
      },
      "execution_count": 33,
      "outputs": []
    },
    {
      "cell_type": "markdown",
      "source": [
        "80 % of data is used for training\n",
        "20 % of data is used for validation "
      ],
      "metadata": {
        "id": "M0aiVlXIbfUn"
      }
    },
    {
      "cell_type": "code",
      "source": [
        "m = np.mean(train_data,axis=0)   # Mean of each axis of the input X. axis=0 in means first axis. \n",
        "s = np.std(train_data,axis=0)    # Standard deviation of each axis of X.\n",
        "n_train = (train_data-m)/s \n",
        "n_val = (val_data-m)/s "
      ],
      "metadata": {
        "id": "RLyJdq0ZAdfY"
      },
      "execution_count": 34,
      "outputs": []
    },
    {
      "cell_type": "markdown",
      "source": [
        "Training and validation data are normalized with respect to the mean and standard deviation of training data"
      ],
      "metadata": {
        "id": "zMOy4H80by9H"
      }
    },
    {
      "cell_type": "code",
      "source": [
        "# Separate the column of target from the variables\n",
        "X_train, t_train = n_train.drop(columns='Next_Tmax').copy(), train_data['Next_Tmax'].copy()\n",
        "X_valid, t_valid = n_val.drop(columns='Next_Tmax').copy(), val_data['Next_Tmax'].copy()\n"
      ],
      "metadata": {
        "id": "XR0JBNFiRrVj"
      },
      "execution_count": 35,
      "outputs": []
    },
    {
      "cell_type": "markdown",
      "source": [
        "# SUPPORTING FUNCTIONS\n",
        "\n",
        "GRADIENT DESCENT"
      ],
      "metadata": {
        "id": "ZIT_J8NAckP0"
      }
    },
    {
      "cell_type": "code",
      "source": [
        "# This fuction uses gradient descent and gives all the required outputs to find the best hyperparameters\n",
        "\n",
        "def Grad_Descent(X, X_val, t, t_val, w, lamda, max_iter, epsilon, lr, lossfunc, gradfunc): # See output format in 'return' statement\n",
        "    # YOUR CODE HERE\n",
        "    \n",
        "    loss2 = lossfunc(X,t,w,lamda)\n",
        "    iter,e = 0, 1\n",
        "    while iter <= max_iter and e >= epsilon:\n",
        "      grad = gradfunc (X, t, w, lamda)\n",
        "      w = w-lr*grad\n",
        "      loss1=loss2\n",
        "      loss2= lossfunc(X,t,w,lamda)\n",
        "      e = abs(loss1-loss2)\n",
        "      iter+=1\n",
        "    train_loss_final = loss2\n",
        "    train_RMSE = np.sqrt(train_loss_final)\n",
        "    \n",
        "    #\n",
        "    #Validation\n",
        "    loss2_val = lossfunc(X_val,t_val,w,lamda)\n",
        "    validation_loss_final = loss2_val\n",
        "    w_final=w\n",
        "    #\n",
        "    validation_RMSE=np.sqrt(validation_loss_final)\n",
        "    validation_NRMSE= NRMSE_Metric (X_val, t_val, w_final,lamda)\n",
        "    train_NRMSE= NRMSE_Metric (X, t, w_final,lamda)\n",
        "    \n",
        "    #raise NotImplementedError()\n",
        "    return w_final, train_RMSE, validation_RMSE, train_NRMSE, validation_NRMSE #You should return variables structured like this."
      ],
      "metadata": {
        "id": "VA8zzxLI3uIK"
      },
      "execution_count": 36,
      "outputs": []
    },
    {
      "cell_type": "markdown",
      "source": [
        "# USING L1 LOSS"
      ],
      "metadata": {
        "id": "f7ufvkD1d_V4"
      }
    },
    {
      "cell_type": "code",
      "source": [
        "l = np.arange(0.01,1,0.05) \n",
        "train_RMSE_L1=np.zeros((len(l)))\n",
        "val_RMSE_L1=np.zeros((len(l)))\n",
        "val_NRMSE_L1=np.zeros((len(l)))\n",
        "train_NRMSE_L1=np.zeros((len(l)))\n",
        "w_f_L1=np.zeros((len(l),X_train.shape[1]+1))\n",
        "lr =  1e-5\n",
        "max_iter = 100\n",
        "epsilon = 1e-5\n",
        "i=0\n",
        "\n",
        "for lamda in l: \n",
        "  w = 1*np.random.rand(X_train.shape[1]+1)-5 \n",
        "  w=(w-np.mean(w))/(np.std(w))\n",
        "  w_f_L1[i,:], train_RMSE_L1[i], val_RMSE_L1[i] ,train_NRMSE_L1[i], val_NRMSE_L1[i] = Grad_Descent (X_train, X_valid, t_train, t_valid, w, lamda, max_iter, epsilon, lr, L1_Loss ,L1_Gradient)\n",
        "  i+=1\n",
        "\n",
        "plt.plot(1/l,train_RMSE_L1,'g-',label=\"Train_RMSE\")\n",
        "plt.plot(1/l,val_RMSE_L1,'r-',label=\"Validation_RMSE\")\n",
        "plt.xlabel('1/lamda')\n",
        "plt.ylabel('RMSE')\n",
        "plt.legend()\n",
        "\n",
        "plt.show()\n",
        "print(train_RMSE_L1, val_RMSE_L1, val_NRMSE_L1)\n",
        "\n"
      ],
      "metadata": {
        "colab": {
          "base_uri": "https://localhost:8080/",
          "height": 453
        },
        "id": "WwfuAzNsOxUf",
        "outputId": "ed3dce07-6775-4c1d-959f-a4593a5830d4"
      },
      "execution_count": 37,
      "outputs": [
        {
          "output_type": "display_data",
          "data": {
            "image/png": "[encoded data removed]",
            "text/plain": [
              "<Figure size 432x288 with 1 Axes>"
            ]
          },
          "metadata": {
            "needs_background": "light"
          }
        },
        {
          "output_type": "stream",
          "name": "stdout",
          "text": [
            "[1.53817612 1.64538584 1.82549557 1.82715883 1.88941862 1.96646802\n",
            " 1.98048806 2.14910102 2.20737028 2.23410024 2.42252148 2.5417513\n",
            " 2.46171388 2.47726299 2.63037646 2.59682392 2.58805738 2.71706898\n",
            " 2.69707144 2.82854866] [1.5429958  1.69868715 1.84354062 1.84642662 1.92236603 2.00873494\n",
            " 2.01208053 2.15950701 2.23557968 2.26426233 2.43943521 2.56232762\n",
            " 2.48972429 2.50002188 2.67265337 2.63910207 2.61565487 2.7444072\n",
            " 2.70868062 2.85119765] [0.50028094 0.51911919 0.51920374 0.5050699  0.49784651 0.51126557\n",
            " 0.50949067 0.51195953 0.51472982 0.51549201 0.49697715 0.51334559\n",
            " 0.53052612 0.50825736 0.544308   0.51697706 0.48584683 0.49589894\n",
            " 0.48899223 0.49723251]\n"
          ]
        }
      ]
    },
    {
      "cell_type": "code",
      "source": [
        "i = np.where(min(val_RMSE_L1))\n",
        "w_L1 = w_f_L1[i,:]\n",
        "print(\"Best lamda near to: \",l[i])\n",
        "print(\"Validation: \",min(val_RMSE_L1))"
      ],
      "metadata": {
        "colab": {
          "base_uri": "https://localhost:8080/"
        },
        "id": "NQMrjJIneaWx",
        "outputId": "98386206-c37f-4919-cca3-9ac0ad52b564"
      },
      "execution_count": 38,
      "outputs": [
        {
          "output_type": "stream",
          "name": "stdout",
          "text": [
            "Best lamda near to:  [0.01]\n",
            "Validation:  1.5429957972644741\n"
          ]
        }
      ]
    },
    {
      "cell_type": "markdown",
      "source": [
        "# USING L2 LOSS"
      ],
      "metadata": {
        "id": "CH2rnft3kD6I"
      }
    },
    {
      "cell_type": "code",
      "source": [
        "l = np.arange(0.01,1,0.05) \n",
        "train_RMSE_L2=np.zeros((len(l)))\n",
        "val_RMSE_L2=np.zeros((len(l)))\n",
        "val_NRMSE_L2=np.zeros((len(l)))\n",
        "train_NRMSE_L2=np.zeros((len(l)))\n",
        "w_f_L2=np.zeros((len(l),X_train.shape[1]+1))\n",
        "lr =  1e-5\n",
        "max_iter = 100\n",
        "epsilon = 1e-5\n",
        "i=0\n",
        "\n",
        "for lamda in l: \n",
        "  w = 1*np.random.rand(X_train.shape[1]+1)-5 \n",
        "  w=(w-np.mean(w))/(np.std(w))\n",
        "  w_f_L2[i,:], train_RMSE_L2[i], val_RMSE_L2[i] ,train_NRMSE_L2[i], val_NRMSE_L2[i] = Grad_Descent (X_train, X_valid, t_train, t_valid, w, lamda, max_iter, epsilon, lr, L2_Loss ,L2_Gradient)\n",
        "  i+=1\n",
        "\n",
        "plt.plot(1/l,train_RMSE_L2,'g-',label=\"Train_RMSE\")\n",
        "plt.plot(1/l,val_RMSE_L2,'r-',label=\"Validation_RMSE\")\n",
        "plt.xlabel('1/lamda')\n",
        "plt.ylabel('RMSE')\n",
        "plt.legend()\n",
        "\n",
        "plt.show()\n",
        "print(train_RMSE_L2, val_RMSE_L2, val_NRMSE_L2)\n",
        "\n",
        "\n"
      ],
      "metadata": {
        "colab": {
          "base_uri": "https://localhost:8080/",
          "height": 453
        },
        "id": "b1hQKvTlGQ17",
        "outputId": "7273449a-387d-4f6b-b6d9-96250a7bfd82"
      },
      "execution_count": 39,
      "outputs": [
        {
          "output_type": "display_data",
          "data": {
            "image/png": "[encoded data removed]",
            "text/plain": [
              "<Figure size 432x288 with 1 Axes>"
            ]
          },
          "metadata": {
            "needs_background": "light"
          }
        },
        {
          "output_type": "stream",
          "name": "stdout",
          "text": [
            "[1.58385633 1.49812773 1.65424089 1.60887229 1.70641106 1.65920028\n",
            " 1.69054972 1.66984393 1.87618387 1.82034368 1.83399272 1.88120272\n",
            " 1.8815687  1.8169439  1.90132973 1.98454912 2.1575409  2.04996739\n",
            " 2.13780493 1.99981655] [1.62973624 1.52964161 1.68901601 1.68617942 1.75689493 1.69121756\n",
            " 1.7073857  1.70639779 1.92891377 1.89259098 1.8560584  1.92677675\n",
            " 1.90278727 1.86396747 1.93157986 2.02778067 2.20504507 2.08491416\n",
            " 2.18993336 2.02197405] [0.53421806 0.48975006 0.53381484 0.5261153  0.53434275 0.49542644\n",
            " 0.48747892 0.49576973 0.55477108 0.54360812 0.51184071 0.52579486\n",
            " 0.51573654 0.50741556 0.51786462 0.53401898 0.51715378 0.53075234\n",
            " 0.55182869 0.51137121]\n"
          ]
        }
      ]
    },
    {
      "cell_type": "code",
      "source": [
        "i = np.where(min(val_RMSE_L2))\n",
        "w_L2 = w_f_L2[i,:]\n",
        "w_L2 = w_L2[0,0,:]\n",
        "print(\"Best lamda near to: \",l[i])\n",
        "print(\"Validation: \",min(val_RMSE_L2))\n"
      ],
      "metadata": {
        "colab": {
          "base_uri": "https://localhost:8080/"
        },
        "id": "___Nc_1CkcF0",
        "outputId": "1cf8d3fa-a780-4fe8-c116-18d42ca0e117"
      },
      "execution_count": 40,
      "outputs": [
        {
          "output_type": "stream",
          "name": "stdout",
          "text": [
            "Best lamda near to:  [0.01]\n",
            "Validation:  1.5296416119653906\n"
          ]
        }
      ]
    },
    {
      "cell_type": "markdown",
      "source": [
        "We can hence finalize the best lamda to be 0.1\n",
        "\n",
        "Both L1 loss and L2 loss gives the same result"
      ],
      "metadata": {
        "id": "bUL8bYB1kmoy"
      }
    },
    {
      "cell_type": "markdown",
      "source": [
        "# PSEUDO INVERSE"
      ],
      "metadata": {
        "id": "s5Cn1lxd8Fwr"
      }
    },
    {
      "cell_type": "code",
      "source": [
        "# computing MRSE for Lamda ranges from 1e-5 to 1e+5 (wide Range)\n",
        "\n",
        "l_p = np.arange(0.01,1,0.05) \n",
        "train_RMSE_p = []\n",
        "val_RMSE_p= []\n",
        "val_NRMSE_p = []\n",
        "val_NRMSE_p = []\n",
        "\n",
        "for lamda in l_p:\n",
        "    w_p = Pseudo_Inverse(X_train,t_train,lamda)\n",
        "    train_RMSE_p.append(np.sqrt(MSE_Loss (X_train, t_train, w_p, lamda =0)))\n",
        "    val_RMSE_p.append(np.sqrt(MSE_Loss (X_valid, t_valid, w_p , lamda =0)))\n",
        "    val_NRMSE_p.append(NRMSE_Metric(X_valid, t_valid, w_p, lamda=0))\n",
        "\n"
      ],
      "metadata": {
        "id": "8x7MfoNL3IfT"
      },
      "execution_count": 41,
      "outputs": []
    },
    {
      "cell_type": "code",
      "source": [
        "i = np.where(min(val_RMSE_p))\n",
        "print(\"Best lamda near to: \",l[i])\n",
        "print(\"Validation: \",min(val_RMSE_p))\n"
      ],
      "metadata": {
        "colab": {
          "base_uri": "https://localhost:8080/"
        },
        "id": "1ZxAb_gk9Yig",
        "outputId": "c9700192-3732-44ce-aa55-3a1f7d3f16a6"
      },
      "execution_count": 42,
      "outputs": [
        {
          "output_type": "stream",
          "name": "stdout",
          "text": [
            "Best lamda near to:  [0.01]\n",
            "Validation:  1.4374138590774665\n"
          ]
        }
      ]
    },
    {
      "cell_type": "markdown",
      "source": [
        "# Prediction using test data\n"
      ],
      "metadata": {
        "id": "7QsIWCImloSs"
      }
    },
    {
      "cell_type": "code",
      "source": [
        "# Predicting\n",
        "\n",
        "X_test = pd.read_csv('https://www.ee.iitb.ac.in/~asethi/Dump/TempTest.csv')\n",
        "#X_test = testing_data.to_numpy()\n",
        "#X_test.head()\n",
        "m_t = m[:len(m)-1]\n",
        "s_t = s[:len(s)-1]\n",
        "X_test_normalize = (X_test-m_t)/s_t\n",
        "unit = np.ones((len(X_test_normalize),1),dtype='int')           # 1D array of ones of integer datatype with length equal to that of X\n",
        "X_test_normalize = np.hstack((X_test_normalize,unit))\n",
        "\n",
        "y=np.dot(X_test_normalize,w_L2)\n",
        "raw_data = {'Next_Tmax': y}\n",
        "df = pd.DataFrame(raw_data, columns = ['Next_Tmax'])\n",
        "\n",
        "df.to_csv('213010036_213010037_1.csv',index=False)"
      ],
      "metadata": {
        "id": "D2ikNNs9lVBr"
      },
      "execution_count": 44,
      "outputs": []
    },
    {
      "cell_type": "markdown",
      "source": [
        "**REFERRED FRIENDS**\n",
        "\n",
        "193010023_203010030 \n",
        "\n",
        "**REFERRED ONLINE SOURCES**\n",
        "\n",
        "Wikepedia for basic \n",
        "\n",
        "https://www.toptal.com/machine-learning/machine-learning-theory-an-introductory-primer\n",
        "\n",
        "https://machinelearningmastery.com/linear-regression-for-machine-learning/"
      ],
      "metadata": {
        "id": "TPk5fox2rDGl"
      }
    },
    {
      "cell_type": "markdown",
      "source": [
        "# This is formatted as code\n",
        "```\n",
        "\n",
        "#**... Part 2 ends.**\n",
        "\n",
        "1. Write the name or roll no.s of friends from outside your group with whom you discussed the assignment here (no penalty for mere discussion without copying code): \n",
        "2. Write the links of sources on the internet referred here (no penalty for mere consultation without copying code): "
      ],
      "metadata": {
        "id": "Awb9jUXWq4Aj"
      }
    }
  ],
  "metadata": {
    "kernelspec": {
      "display_name": "Python 3",
      "language": "python",
      "name": "python3"
    },
    "language_info": {
      "codemirror_mode": {
        "name": "ipython",
        "version": 3
      },
      "file_extension": ".py",
      "mimetype": "text/x-python",
      "name": "python",
      "nbconvert_exporter": "python",
      "pygments_lexer": "ipython3",
      "version": "3.8.3"
    },
    "colab": {
      "name": "213010036_213010037_1.ipynb",
      "provenance": [],
      "collapsed_sections": [
        "S78YoCEOor7H",
        "2ngus4Hror7p",
        "iJM3mXyDor73",
        "_iLbk9cwor7-",
        "PfClOwZ5or8A",
        "zTNNE0qGor8D",
        "-SzKbifnor8E"
      ]
    }
  },
  "nbformat": 4,
  "nbformat_minor": 0
}